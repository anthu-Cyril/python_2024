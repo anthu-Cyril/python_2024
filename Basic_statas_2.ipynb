{
  "nbformat": 4,
  "nbformat_minor": 0,
  "metadata": {
    "colab": {
      "provenance": []
    },
    "kernelspec": {
      "name": "python3",
      "display_name": "Python 3"
    },
    "language_info": {
      "name": "python"
    }
  },
  "cells": [
    {
      "cell_type": "code",
      "execution_count": 1,
      "metadata": {
        "id": "xWW1RrUaarMa"
      },
      "outputs": [],
      "source": [
        "import pandas as pd"
      ]
    },
    {
      "cell_type": "code",
      "source": [
        "from scipy import stats"
      ],
      "metadata": {
        "id": "0hyXR8Spifys"
      },
      "execution_count": 10,
      "outputs": []
    },
    {
      "cell_type": "code",
      "source": [
        "import numpy as np\n",
        "import matplotlib.pyplot as plt"
      ],
      "metadata": {
        "id": "tmy-DLzja-GS"
      },
      "execution_count": 2,
      "outputs": []
    },
    {
      "cell_type": "code",
      "source": [
        "import seaborn as sns"
      ],
      "metadata": {
        "id": "mD-8gG9oa-DJ"
      },
      "execution_count": 3,
      "outputs": []
    },
    {
      "cell_type": "code",
      "source": [
        "df = pd.read_csv('/content/sales_data_with_discounts.csv')\n",
        "df.head()\n"
      ],
      "metadata": {
        "colab": {
          "base_uri": "https://localhost:8080/",
          "height": 327
        },
        "id": "nMyKAEA2a984",
        "outputId": "2a1371c3-7b35-481b-b991-10dea9f2592f"
      },
      "execution_count": 5,
      "outputs": [
        {
          "output_type": "execute_result",
          "data": {
            "text/plain": [
              "         Date       Day  SKU City  Volume       BU  Brand       Model  \\\n",
              "0  01-04-2021  Thursday  M01    C      15  Mobiles  RealU       RU-10   \n",
              "1  01-04-2021  Thursday  M02    C      10  Mobiles  RealU   RU-9 Plus   \n",
              "2  01-04-2021  Thursday  M03    C       7  Mobiles   YouM       YM-99   \n",
              "3  01-04-2021  Thursday  M04    C       6  Mobiles   YouM  YM-99 Plus   \n",
              "4  01-04-2021  Thursday  M05    C       3  Mobiles   YouM      YM-98    \n",
              "\n",
              "   Avg Price  Total Sales Value  Discount Rate (%)  Discount Amount  \\\n",
              "0      12100             181500          11.654820     21153.498820   \n",
              "1      10100             101000          11.560498     11676.102961   \n",
              "2      16100             112700           9.456886     10657.910157   \n",
              "3      20100             120600           6.935385      8364.074702   \n",
              "4       8100              24300          17.995663      4372.946230   \n",
              "\n",
              "   Net Sales Value  \n",
              "0    160346.501180  \n",
              "1     89323.897039  \n",
              "2    102042.089843  \n",
              "3    112235.925298  \n",
              "4     19927.053770  "
            ],
            "text/html": [
              "\n",
              "  <div id=\"df-0d63a1a8-5255-436e-832e-f2e779f52a5f\" class=\"colab-df-container\">\n",
              "    <div>\n",
              "<style scoped>\n",
              "    .dataframe tbody tr th:only-of-type {\n",
              "        vertical-align: middle;\n",
              "    }\n",
              "\n",
              "    .dataframe tbody tr th {\n",
              "        vertical-align: top;\n",
              "    }\n",
              "\n",
              "    .dataframe thead th {\n",
              "        text-align: right;\n",
              "    }\n",
              "</style>\n",
              "<table border=\"1\" class=\"dataframe\">\n",
              "  <thead>\n",
              "    <tr style=\"text-align: right;\">\n",
              "      <th></th>\n",
              "      <th>Date</th>\n",
              "      <th>Day</th>\n",
              "      <th>SKU</th>\n",
              "      <th>City</th>\n",
              "      <th>Volume</th>\n",
              "      <th>BU</th>\n",
              "      <th>Brand</th>\n",
              "      <th>Model</th>\n",
              "      <th>Avg Price</th>\n",
              "      <th>Total Sales Value</th>\n",
              "      <th>Discount Rate (%)</th>\n",
              "      <th>Discount Amount</th>\n",
              "      <th>Net Sales Value</th>\n",
              "    </tr>\n",
              "  </thead>\n",
              "  <tbody>\n",
              "    <tr>\n",
              "      <th>0</th>\n",
              "      <td>01-04-2021</td>\n",
              "      <td>Thursday</td>\n",
              "      <td>M01</td>\n",
              "      <td>C</td>\n",
              "      <td>15</td>\n",
              "      <td>Mobiles</td>\n",
              "      <td>RealU</td>\n",
              "      <td>RU-10</td>\n",
              "      <td>12100</td>\n",
              "      <td>181500</td>\n",
              "      <td>11.654820</td>\n",
              "      <td>21153.498820</td>\n",
              "      <td>160346.501180</td>\n",
              "    </tr>\n",
              "    <tr>\n",
              "      <th>1</th>\n",
              "      <td>01-04-2021</td>\n",
              "      <td>Thursday</td>\n",
              "      <td>M02</td>\n",
              "      <td>C</td>\n",
              "      <td>10</td>\n",
              "      <td>Mobiles</td>\n",
              "      <td>RealU</td>\n",
              "      <td>RU-9 Plus</td>\n",
              "      <td>10100</td>\n",
              "      <td>101000</td>\n",
              "      <td>11.560498</td>\n",
              "      <td>11676.102961</td>\n",
              "      <td>89323.897039</td>\n",
              "    </tr>\n",
              "    <tr>\n",
              "      <th>2</th>\n",
              "      <td>01-04-2021</td>\n",
              "      <td>Thursday</td>\n",
              "      <td>M03</td>\n",
              "      <td>C</td>\n",
              "      <td>7</td>\n",
              "      <td>Mobiles</td>\n",
              "      <td>YouM</td>\n",
              "      <td>YM-99</td>\n",
              "      <td>16100</td>\n",
              "      <td>112700</td>\n",
              "      <td>9.456886</td>\n",
              "      <td>10657.910157</td>\n",
              "      <td>102042.089843</td>\n",
              "    </tr>\n",
              "    <tr>\n",
              "      <th>3</th>\n",
              "      <td>01-04-2021</td>\n",
              "      <td>Thursday</td>\n",
              "      <td>M04</td>\n",
              "      <td>C</td>\n",
              "      <td>6</td>\n",
              "      <td>Mobiles</td>\n",
              "      <td>YouM</td>\n",
              "      <td>YM-99 Plus</td>\n",
              "      <td>20100</td>\n",
              "      <td>120600</td>\n",
              "      <td>6.935385</td>\n",
              "      <td>8364.074702</td>\n",
              "      <td>112235.925298</td>\n",
              "    </tr>\n",
              "    <tr>\n",
              "      <th>4</th>\n",
              "      <td>01-04-2021</td>\n",
              "      <td>Thursday</td>\n",
              "      <td>M05</td>\n",
              "      <td>C</td>\n",
              "      <td>3</td>\n",
              "      <td>Mobiles</td>\n",
              "      <td>YouM</td>\n",
              "      <td>YM-98</td>\n",
              "      <td>8100</td>\n",
              "      <td>24300</td>\n",
              "      <td>17.995663</td>\n",
              "      <td>4372.946230</td>\n",
              "      <td>19927.053770</td>\n",
              "    </tr>\n",
              "  </tbody>\n",
              "</table>\n",
              "</div>\n",
              "    <div class=\"colab-df-buttons\">\n",
              "\n",
              "  <div class=\"colab-df-container\">\n",
              "    <button class=\"colab-df-convert\" onclick=\"convertToInteractive('df-0d63a1a8-5255-436e-832e-f2e779f52a5f')\"\n",
              "            title=\"Convert this dataframe to an interactive table.\"\n",
              "            style=\"display:none;\">\n",
              "\n",
              "  <svg xmlns=\"http://www.w3.org/2000/svg\" height=\"24px\" viewBox=\"0 -960 960 960\">\n",
              "    <path d=\"M120-120v-720h720v720H120Zm60-500h600v-160H180v160Zm220 220h160v-160H400v160Zm0 220h160v-160H400v160ZM180-400h160v-160H180v160Zm440 0h160v-160H620v160ZM180-180h160v-160H180v160Zm440 0h160v-160H620v160Z\"/>\n",
              "  </svg>\n",
              "    </button>\n",
              "\n",
              "  <style>\n",
              "    .colab-df-container {\n",
              "      display:flex;\n",
              "      gap: 12px;\n",
              "    }\n",
              "\n",
              "    .colab-df-convert {\n",
              "      background-color: #E8F0FE;\n",
              "      border: none;\n",
              "      border-radius: 50%;\n",
              "      cursor: pointer;\n",
              "      display: none;\n",
              "      fill: #1967D2;\n",
              "      height: 32px;\n",
              "      padding: 0 0 0 0;\n",
              "      width: 32px;\n",
              "    }\n",
              "\n",
              "    .colab-df-convert:hover {\n",
              "      background-color: #E2EBFA;\n",
              "      box-shadow: 0px 1px 2px rgba(60, 64, 67, 0.3), 0px 1px 3px 1px rgba(60, 64, 67, 0.15);\n",
              "      fill: #174EA6;\n",
              "    }\n",
              "\n",
              "    .colab-df-buttons div {\n",
              "      margin-bottom: 4px;\n",
              "    }\n",
              "\n",
              "    [theme=dark] .colab-df-convert {\n",
              "      background-color: #3B4455;\n",
              "      fill: #D2E3FC;\n",
              "    }\n",
              "\n",
              "    [theme=dark] .colab-df-convert:hover {\n",
              "      background-color: #434B5C;\n",
              "      box-shadow: 0px 1px 3px 1px rgba(0, 0, 0, 0.15);\n",
              "      filter: drop-shadow(0px 1px 2px rgba(0, 0, 0, 0.3));\n",
              "      fill: #FFFFFF;\n",
              "    }\n",
              "  </style>\n",
              "\n",
              "    <script>\n",
              "      const buttonEl =\n",
              "        document.querySelector('#df-0d63a1a8-5255-436e-832e-f2e779f52a5f button.colab-df-convert');\n",
              "      buttonEl.style.display =\n",
              "        google.colab.kernel.accessAllowed ? 'block' : 'none';\n",
              "\n",
              "      async function convertToInteractive(key) {\n",
              "        const element = document.querySelector('#df-0d63a1a8-5255-436e-832e-f2e779f52a5f');\n",
              "        const dataTable =\n",
              "          await google.colab.kernel.invokeFunction('convertToInteractive',\n",
              "                                                    [key], {});\n",
              "        if (!dataTable) return;\n",
              "\n",
              "        const docLinkHtml = 'Like what you see? Visit the ' +\n",
              "          '<a target=\"_blank\" href=https://colab.research.google.com/notebooks/data_table.ipynb>data table notebook</a>'\n",
              "          + ' to learn more about interactive tables.';\n",
              "        element.innerHTML = '';\n",
              "        dataTable['output_type'] = 'display_data';\n",
              "        await google.colab.output.renderOutput(dataTable, element);\n",
              "        const docLink = document.createElement('div');\n",
              "        docLink.innerHTML = docLinkHtml;\n",
              "        element.appendChild(docLink);\n",
              "      }\n",
              "    </script>\n",
              "  </div>\n",
              "\n",
              "\n",
              "<div id=\"df-d6686a21-ffb3-4154-a92e-d93bcebfae6e\">\n",
              "  <button class=\"colab-df-quickchart\" onclick=\"quickchart('df-d6686a21-ffb3-4154-a92e-d93bcebfae6e')\"\n",
              "            title=\"Suggest charts\"\n",
              "            style=\"display:none;\">\n",
              "\n",
              "<svg xmlns=\"http://www.w3.org/2000/svg\" height=\"24px\"viewBox=\"0 0 24 24\"\n",
              "     width=\"24px\">\n",
              "    <g>\n",
              "        <path d=\"M19 3H5c-1.1 0-2 .9-2 2v14c0 1.1.9 2 2 2h14c1.1 0 2-.9 2-2V5c0-1.1-.9-2-2-2zM9 17H7v-7h2v7zm4 0h-2V7h2v10zm4 0h-2v-4h2v4z\"/>\n",
              "    </g>\n",
              "</svg>\n",
              "  </button>\n",
              "\n",
              "<style>\n",
              "  .colab-df-quickchart {\n",
              "      --bg-color: #E8F0FE;\n",
              "      --fill-color: #1967D2;\n",
              "      --hover-bg-color: #E2EBFA;\n",
              "      --hover-fill-color: #174EA6;\n",
              "      --disabled-fill-color: #AAA;\n",
              "      --disabled-bg-color: #DDD;\n",
              "  }\n",
              "\n",
              "  [theme=dark] .colab-df-quickchart {\n",
              "      --bg-color: #3B4455;\n",
              "      --fill-color: #D2E3FC;\n",
              "      --hover-bg-color: #434B5C;\n",
              "      --hover-fill-color: #FFFFFF;\n",
              "      --disabled-bg-color: #3B4455;\n",
              "      --disabled-fill-color: #666;\n",
              "  }\n",
              "\n",
              "  .colab-df-quickchart {\n",
              "    background-color: var(--bg-color);\n",
              "    border: none;\n",
              "    border-radius: 50%;\n",
              "    cursor: pointer;\n",
              "    display: none;\n",
              "    fill: var(--fill-color);\n",
              "    height: 32px;\n",
              "    padding: 0;\n",
              "    width: 32px;\n",
              "  }\n",
              "\n",
              "  .colab-df-quickchart:hover {\n",
              "    background-color: var(--hover-bg-color);\n",
              "    box-shadow: 0 1px 2px rgba(60, 64, 67, 0.3), 0 1px 3px 1px rgba(60, 64, 67, 0.15);\n",
              "    fill: var(--button-hover-fill-color);\n",
              "  }\n",
              "\n",
              "  .colab-df-quickchart-complete:disabled,\n",
              "  .colab-df-quickchart-complete:disabled:hover {\n",
              "    background-color: var(--disabled-bg-color);\n",
              "    fill: var(--disabled-fill-color);\n",
              "    box-shadow: none;\n",
              "  }\n",
              "\n",
              "  .colab-df-spinner {\n",
              "    border: 2px solid var(--fill-color);\n",
              "    border-color: transparent;\n",
              "    border-bottom-color: var(--fill-color);\n",
              "    animation:\n",
              "      spin 1s steps(1) infinite;\n",
              "  }\n",
              "\n",
              "  @keyframes spin {\n",
              "    0% {\n",
              "      border-color: transparent;\n",
              "      border-bottom-color: var(--fill-color);\n",
              "      border-left-color: var(--fill-color);\n",
              "    }\n",
              "    20% {\n",
              "      border-color: transparent;\n",
              "      border-left-color: var(--fill-color);\n",
              "      border-top-color: var(--fill-color);\n",
              "    }\n",
              "    30% {\n",
              "      border-color: transparent;\n",
              "      border-left-color: var(--fill-color);\n",
              "      border-top-color: var(--fill-color);\n",
              "      border-right-color: var(--fill-color);\n",
              "    }\n",
              "    40% {\n",
              "      border-color: transparent;\n",
              "      border-right-color: var(--fill-color);\n",
              "      border-top-color: var(--fill-color);\n",
              "    }\n",
              "    60% {\n",
              "      border-color: transparent;\n",
              "      border-right-color: var(--fill-color);\n",
              "    }\n",
              "    80% {\n",
              "      border-color: transparent;\n",
              "      border-right-color: var(--fill-color);\n",
              "      border-bottom-color: var(--fill-color);\n",
              "    }\n",
              "    90% {\n",
              "      border-color: transparent;\n",
              "      border-bottom-color: var(--fill-color);\n",
              "    }\n",
              "  }\n",
              "</style>\n",
              "\n",
              "  <script>\n",
              "    async function quickchart(key) {\n",
              "      const quickchartButtonEl =\n",
              "        document.querySelector('#' + key + ' button');\n",
              "      quickchartButtonEl.disabled = true;  // To prevent multiple clicks.\n",
              "      quickchartButtonEl.classList.add('colab-df-spinner');\n",
              "      try {\n",
              "        const charts = await google.colab.kernel.invokeFunction(\n",
              "            'suggestCharts', [key], {});\n",
              "      } catch (error) {\n",
              "        console.error('Error during call to suggestCharts:', error);\n",
              "      }\n",
              "      quickchartButtonEl.classList.remove('colab-df-spinner');\n",
              "      quickchartButtonEl.classList.add('colab-df-quickchart-complete');\n",
              "    }\n",
              "    (() => {\n",
              "      let quickchartButtonEl =\n",
              "        document.querySelector('#df-d6686a21-ffb3-4154-a92e-d93bcebfae6e button');\n",
              "      quickchartButtonEl.style.display =\n",
              "        google.colab.kernel.accessAllowed ? 'block' : 'none';\n",
              "    })();\n",
              "  </script>\n",
              "</div>\n",
              "\n",
              "    </div>\n",
              "  </div>\n"
            ],
            "application/vnd.google.colaboratory.intrinsic+json": {
              "type": "dataframe",
              "variable_name": "df",
              "summary": "{\n  \"name\": \"df\",\n  \"rows\": 450,\n  \"fields\": [\n    {\n      \"column\": \"Date\",\n      \"properties\": {\n        \"dtype\": \"category\",\n        \"num_unique_values\": 15,\n        \"samples\": [\n          \"10-04-2021\",\n          \"12-04-2021\",\n          \"01-04-2021\"\n        ],\n        \"semantic_type\": \"\",\n        \"description\": \"\"\n      }\n    },\n    {\n      \"column\": \"Day\",\n      \"properties\": {\n        \"dtype\": \"category\",\n        \"num_unique_values\": 7,\n        \"samples\": [\n          \"Thursday\",\n          \"Friday\",\n          \"Tuesday\"\n        ],\n        \"semantic_type\": \"\",\n        \"description\": \"\"\n      }\n    },\n    {\n      \"column\": \"SKU\",\n      \"properties\": {\n        \"dtype\": \"category\",\n        \"num_unique_values\": 30,\n        \"samples\": [\n          \"L08\",\n          \"F06\",\n          \"L04\"\n        ],\n        \"semantic_type\": \"\",\n        \"description\": \"\"\n      }\n    },\n    {\n      \"column\": \"City\",\n      \"properties\": {\n        \"dtype\": \"category\",\n        \"num_unique_values\": 1,\n        \"samples\": [\n          \"C\"\n        ],\n        \"semantic_type\": \"\",\n        \"description\": \"\"\n      }\n    },\n    {\n      \"column\": \"Volume\",\n      \"properties\": {\n        \"dtype\": \"number\",\n        \"std\": 4,\n        \"min\": 1,\n        \"max\": 31,\n        \"num_unique_values\": 22,\n        \"samples\": [\n          15\n        ],\n        \"semantic_type\": \"\",\n        \"description\": \"\"\n      }\n    },\n    {\n      \"column\": \"BU\",\n      \"properties\": {\n        \"dtype\": \"category\",\n        \"num_unique_values\": 3,\n        \"samples\": [\n          \"Mobiles\"\n        ],\n        \"semantic_type\": \"\",\n        \"description\": \"\"\n      }\n    },\n    {\n      \"column\": \"Brand\",\n      \"properties\": {\n        \"dtype\": \"category\",\n        \"num_unique_values\": 9,\n        \"samples\": [\n          \"Jeera\"\n        ],\n        \"semantic_type\": \"\",\n        \"description\": \"\"\n      }\n    },\n    {\n      \"column\": \"Model\",\n      \"properties\": {\n        \"dtype\": \"category\",\n        \"num_unique_values\": 30,\n        \"samples\": [\n          \"W-Lounge\"\n        ],\n        \"semantic_type\": \"\",\n        \"description\": \"\"\n      }\n    },\n    {\n      \"column\": \"Avg Price\",\n      \"properties\": {\n        \"dtype\": \"number\",\n        \"std\": 18079,\n        \"min\": 290,\n        \"max\": 60100,\n        \"num_unique_values\": 25,\n        \"samples\": [\n          60100\n        ],\n        \"semantic_type\": \"\",\n        \"description\": \"\"\n      }\n    },\n    {\n      \"column\": \"Total Sales Value\",\n      \"properties\": {\n        \"dtype\": \"number\",\n        \"std\": 50535,\n        \"min\": 400,\n        \"max\": 196400,\n        \"num_unique_values\": 135,\n        \"samples\": [\n          3000\n        ],\n        \"semantic_type\": \"\",\n        \"description\": \"\"\n      }\n    },\n    {\n      \"column\": \"Discount Rate (%)\",\n      \"properties\": {\n        \"dtype\": \"number\",\n        \"std\": 4.22060215332551,\n        \"min\": 5.007822189204133,\n        \"max\": 19.99240704193018,\n        \"num_unique_values\": 450,\n        \"samples\": [\n          18.99129131753696\n        ],\n        \"semantic_type\": \"\",\n        \"description\": \"\"\n      }\n    },\n    {\n      \"column\": \"Discount Amount\",\n      \"properties\": {\n        \"dtype\": \"number\",\n        \"std\": 4509.902963353998,\n        \"min\": 69.17794228822787,\n        \"max\": 25738.02219375868,\n        \"num_unique_values\": 450,\n        \"samples\": [\n          151.9303305402957\n        ],\n        \"semantic_type\": \"\",\n        \"description\": \"\"\n      }\n    },\n    {\n      \"column\": \"Net Sales Value\",\n      \"properties\": {\n        \"dtype\": \"number\",\n        \"std\": 46358.65662406695,\n        \"min\": 326.97480055470817,\n        \"max\": 179507.47904902254,\n        \"num_unique_values\": 450,\n        \"samples\": [\n          648.0696694597043\n        ],\n        \"semantic_type\": \"\",\n        \"description\": \"\"\n      }\n    }\n  ]\n}"
            }
          },
          "metadata": {},
          "execution_count": 5
        }
      ]
    },
    {
      "cell_type": "code",
      "source": [
        " #  Data: Durability of each print-head in millions of characters"
      ],
      "metadata": {
        "id": "uAqMfYbTjm72"
      },
      "execution_count": null,
      "outputs": []
    },
    {
      "cell_type": "code",
      "source": [
        "data = [1.13, 1.55, 1.43, 0.92, 1.25, 1.36, 1.32, 0.85, 1.07, 1.48, 1.20, 1.33, 1.18, 1.22, 1.29]\n"
      ],
      "metadata": {
        "id": "tjH4-OzRicjQ"
      },
      "execution_count": 11,
      "outputs": []
    },
    {
      "cell_type": "code",
      "source": [
        "# Calculate the sample mean"
      ],
      "metadata": {
        "id": "7y9GDIYKi9Qp"
      },
      "execution_count": null,
      "outputs": []
    },
    {
      "cell_type": "code",
      "source": [
        "sample_mean = np.mean(data)"
      ],
      "metadata": {
        "id": "LDjVqUmij0CK"
      },
      "execution_count": 12,
      "outputs": []
    },
    {
      "cell_type": "code",
      "source": [
        "#  Calculate the sample standard deviation (ddof=1 to get the sample standard deviation"
      ],
      "metadata": {
        "id": "Zqshif-ga9aG"
      },
      "execution_count": null,
      "outputs": []
    },
    {
      "cell_type": "code",
      "source": [
        "sample_std = np.std(data, ddof=1)\n"
      ],
      "metadata": {
        "id": "dZMzZ0TwkBNx"
      },
      "execution_count": 13,
      "outputs": []
    },
    {
      "cell_type": "code",
      "source": [
        "#  Sample size"
      ],
      "metadata": {
        "id": "knep_GkgkU1O"
      },
      "execution_count": null,
      "outputs": []
    },
    {
      "cell_type": "code",
      "source": [
        "n = len(data)"
      ],
      "metadata": {
        "id": "ekLioqYOkWTx"
      },
      "execution_count": 14,
      "outputs": []
    },
    {
      "cell_type": "code",
      "source": [
        "# Degrees of freedom"
      ],
      "metadata": {
        "id": "YmtU4kgukjB4"
      },
      "execution_count": null,
      "outputs": []
    },
    {
      "cell_type": "code",
      "source": [
        "df = n - 1"
      ],
      "metadata": {
        "id": "7ghRQgyRknJ6"
      },
      "execution_count": 15,
      "outputs": []
    },
    {
      "cell_type": "code",
      "source": [
        "# t-critical value for 99% confidence and df degrees of freedom"
      ],
      "metadata": {
        "id": "H_2XDGr8krCI"
      },
      "execution_count": null,
      "outputs": []
    },
    {
      "cell_type": "code",
      "source": [
        "t_critical = stats.t.ppf(0.995, df)  # 0.995 because it's a two-tailed test (1 - 0.01/2)\n",
        "\n"
      ],
      "metadata": {
        "id": "dtiOc1lFkuok"
      },
      "execution_count": 16,
      "outputs": []
    },
    {
      "cell_type": "code",
      "source": [
        "# Margin of error"
      ],
      "metadata": {
        "id": "knRt5K0mk88q"
      },
      "execution_count": null,
      "outputs": []
    },
    {
      "cell_type": "code",
      "source": [
        "margin_of_error = t_critical * (sample_std / np.sqrt(n))"
      ],
      "metadata": {
        "id": "f4tKvbiEk-HN"
      },
      "execution_count": 17,
      "outputs": []
    },
    {
      "cell_type": "code",
      "source": [
        "#  99% confidence interval"
      ],
      "metadata": {
        "id": "KqiBopAWlCeE"
      },
      "execution_count": null,
      "outputs": []
    },
    {
      "cell_type": "code",
      "source": [
        "confidence_interval = (sample_mean - margin_of_error, sample_mean + margin_of_error)\n"
      ],
      "metadata": {
        "id": "rNJr7snwlGwf"
      },
      "execution_count": 18,
      "outputs": []
    },
    {
      "cell_type": "code",
      "source": [
        "print(f\"Sample Mean: {sample_mean:.4f} million characters\")\n",
        "print(f\"Sample Standard Deviation: {sample_std:.4f} million characters\")\n",
        "print(f\"99% Confidence Interval (using sample std): {confidence_interval}\")"
      ],
      "metadata": {
        "colab": {
          "base_uri": "https://localhost:8080/"
        },
        "id": "iYrWN91FlVOC",
        "outputId": "da939cc0-d3ed-4538-a06c-a0673841a53f"
      },
      "execution_count": 19,
      "outputs": [
        {
          "output_type": "stream",
          "name": "stdout",
          "text": [
            "Sample Mean: 1.2387 million characters\n",
            "Sample Standard Deviation: 0.1932 million characters\n",
            "99% Confidence Interval (using sample std): (1.0901973384384906, 1.3871359948948425)\n"
          ]
        }
      ]
    },
    {
      "cell_type": "markdown",
      "source": [
        "b. 99% Confidence Interval Using Known Population Standard Deviation\n",
        "If the population standard deviation is known, we can use the z-distribution (standard normal distribution) to construct the confidence interval."
      ],
      "metadata": {
        "id": "JMCDCGSWlm33"
      }
    },
    {
      "cell_type": "code",
      "source": [
        " # Known population standard deviation"
      ],
      "metadata": {
        "id": "Iy76q-holuA5"
      },
      "execution_count": null,
      "outputs": []
    },
    {
      "cell_type": "code",
      "source": [
        "population_std = 0.2"
      ],
      "metadata": {
        "id": "hwhxlAx9l78Z"
      },
      "execution_count": 20,
      "outputs": []
    },
    {
      "cell_type": "code",
      "source": [
        "#  z-critical value for 99% confidence"
      ],
      "metadata": {
        "id": "Y7Bg0TnkmAGz"
      },
      "execution_count": null,
      "outputs": []
    },
    {
      "cell_type": "code",
      "source": [
        "z_critical = stats.norm.ppf(0.995)  # 0.995 because it's a two-tailed test (1 - 0.01/2)\n"
      ],
      "metadata": {
        "id": "vVLnjVE6mGsW"
      },
      "execution_count": 21,
      "outputs": []
    },
    {
      "cell_type": "code",
      "source": [
        "# Margin of error"
      ],
      "metadata": {
        "id": "Cgc_U9rHmMni"
      },
      "execution_count": null,
      "outputs": []
    },
    {
      "cell_type": "code",
      "source": [
        "margin_of_error_pop = z_critical * (population_std / np.sqrt(n))\n"
      ],
      "metadata": {
        "id": "eRX_QwvAmSKV"
      },
      "execution_count": 23,
      "outputs": []
    },
    {
      "cell_type": "code",
      "source": [
        "#  99% confidence interval"
      ],
      "metadata": {
        "id": "TZzpdk8xmVYk"
      },
      "execution_count": null,
      "outputs": []
    },
    {
      "cell_type": "code",
      "source": [
        "confidence_interval_pop = (sample_mean - margin_of_error_pop, sample_mean + margin_of_error_pop)"
      ],
      "metadata": {
        "id": "4dGo_ALZmbJf"
      },
      "execution_count": 24,
      "outputs": []
    },
    {
      "cell_type": "code",
      "source": [
        "print(f\"99% Confidence Interval (using population std): {confidence_interval_pop}\")"
      ],
      "metadata": {
        "colab": {
          "base_uri": "https://localhost:8080/"
        },
        "id": "d_dTiNBfmiZb",
        "outputId": "2537e701-4a2d-4cef-8bcc-a2f522f362e7"
      },
      "execution_count": 25,
      "outputs": [
        {
          "output_type": "stream",
          "name": "stdout",
          "text": [
            "99% Confidence Interval (using population std): (1.1056514133957607, 1.3716819199375725)\n"
          ]
        }
      ]
    }
  ]
}