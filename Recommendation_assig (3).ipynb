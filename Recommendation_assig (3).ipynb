{
  "nbformat": 4,
  "nbformat_minor": 0,
  "metadata": {
    "colab": {
      "provenance": []
    },
    "kernelspec": {
      "name": "python3",
      "display_name": "Python 3"
    },
    "language_info": {
      "name": "python"
    }
  },
  "cells": [
    {
      "cell_type": "code",
      "source": [
        "# Recommendation System"
      ],
      "metadata": {
        "id": "8vy3OPDFhHr2"
      },
      "execution_count": null,
      "outputs": []
    },
    {
      "cell_type": "code",
      "source": [
        "import pandas as pd\n",
        "import numpy as np\n",
        "import matplotlib.pyplot as plt\n",
        "import seaborn as sns\n",
        "\n",
        "from sklearn.preprocessing import MinMaxScaler\n",
        "\n",
        "# Assign the result of pd.read_csv to the variable 'df'\n",
        "df = pd.read_csv('/content/anime.csv')"
      ],
      "metadata": {
        "id": "URvZtH26Rcfq"
      },
      "execution_count": 4,
      "outputs": []
    },
    {
      "cell_type": "code",
      "source": [
        "df.head()\n"
      ],
      "metadata": {
        "colab": {
          "base_uri": "https://localhost:8080/",
          "height": 206
        },
        "id": "5QLgJW34SAcg",
        "outputId": "df91fdb4-d96d-4922-d21b-6db32c8ec242"
      },
      "execution_count": 10,
      "outputs": [
        {
          "output_type": "execute_result",
          "data": {
            "text/plain": [
              "   anime_id                              name  \\\n",
              "0     32281                    Kimi no Na wa.   \n",
              "1      5114  Fullmetal Alchemist: Brotherhood   \n",
              "2     28977                          Gintama°   \n",
              "3      9253                       Steins;Gate   \n",
              "4      9969                     Gintama&#039;   \n",
              "\n",
              "                                               genre   type episodes  rating  \\\n",
              "0               Drama, Romance, School, Supernatural  Movie        1    9.37   \n",
              "1  Action, Adventure, Drama, Fantasy, Magic, Mili...     TV       64    9.26   \n",
              "2  Action, Comedy, Historical, Parody, Samurai, S...     TV       51    9.25   \n",
              "3                                   Sci-Fi, Thriller     TV       24    9.17   \n",
              "4  Action, Comedy, Historical, Parody, Samurai, S...     TV       51    9.16   \n",
              "\n",
              "   members  \n",
              "0   200630  \n",
              "1   793665  \n",
              "2   114262  \n",
              "3   673572  \n",
              "4   151266  "
            ],
            "text/html": [
              "\n",
              "  <div id=\"df-023f1639-a93a-4ac1-88af-45ca0765fe36\" class=\"colab-df-container\">\n",
              "    <div>\n",
              "<style scoped>\n",
              "    .dataframe tbody tr th:only-of-type {\n",
              "        vertical-align: middle;\n",
              "    }\n",
              "\n",
              "    .dataframe tbody tr th {\n",
              "        vertical-align: top;\n",
              "    }\n",
              "\n",
              "    .dataframe thead th {\n",
              "        text-align: right;\n",
              "    }\n",
              "</style>\n",
              "<table border=\"1\" class=\"dataframe\">\n",
              "  <thead>\n",
              "    <tr style=\"text-align: right;\">\n",
              "      <th></th>\n",
              "      <th>anime_id</th>\n",
              "      <th>name</th>\n",
              "      <th>genre</th>\n",
              "      <th>type</th>\n",
              "      <th>episodes</th>\n",
              "      <th>rating</th>\n",
              "      <th>members</th>\n",
              "    </tr>\n",
              "  </thead>\n",
              "  <tbody>\n",
              "    <tr>\n",
              "      <th>0</th>\n",
              "      <td>32281</td>\n",
              "      <td>Kimi no Na wa.</td>\n",
              "      <td>Drama, Romance, School, Supernatural</td>\n",
              "      <td>Movie</td>\n",
              "      <td>1</td>\n",
              "      <td>9.37</td>\n",
              "      <td>200630</td>\n",
              "    </tr>\n",
              "    <tr>\n",
              "      <th>1</th>\n",
              "      <td>5114</td>\n",
              "      <td>Fullmetal Alchemist: Brotherhood</td>\n",
              "      <td>Action, Adventure, Drama, Fantasy, Magic, Mili...</td>\n",
              "      <td>TV</td>\n",
              "      <td>64</td>\n",
              "      <td>9.26</td>\n",
              "      <td>793665</td>\n",
              "    </tr>\n",
              "    <tr>\n",
              "      <th>2</th>\n",
              "      <td>28977</td>\n",
              "      <td>Gintama°</td>\n",
              "      <td>Action, Comedy, Historical, Parody, Samurai, S...</td>\n",
              "      <td>TV</td>\n",
              "      <td>51</td>\n",
              "      <td>9.25</td>\n",
              "      <td>114262</td>\n",
              "    </tr>\n",
              "    <tr>\n",
              "      <th>3</th>\n",
              "      <td>9253</td>\n",
              "      <td>Steins;Gate</td>\n",
              "      <td>Sci-Fi, Thriller</td>\n",
              "      <td>TV</td>\n",
              "      <td>24</td>\n",
              "      <td>9.17</td>\n",
              "      <td>673572</td>\n",
              "    </tr>\n",
              "    <tr>\n",
              "      <th>4</th>\n",
              "      <td>9969</td>\n",
              "      <td>Gintama&amp;#039;</td>\n",
              "      <td>Action, Comedy, Historical, Parody, Samurai, S...</td>\n",
              "      <td>TV</td>\n",
              "      <td>51</td>\n",
              "      <td>9.16</td>\n",
              "      <td>151266</td>\n",
              "    </tr>\n",
              "  </tbody>\n",
              "</table>\n",
              "</div>\n",
              "    <div class=\"colab-df-buttons\">\n",
              "\n",
              "  <div class=\"colab-df-container\">\n",
              "    <button class=\"colab-df-convert\" onclick=\"convertToInteractive('df-023f1639-a93a-4ac1-88af-45ca0765fe36')\"\n",
              "            title=\"Convert this dataframe to an interactive table.\"\n",
              "            style=\"display:none;\">\n",
              "\n",
              "  <svg xmlns=\"http://www.w3.org/2000/svg\" height=\"24px\" viewBox=\"0 -960 960 960\">\n",
              "    <path d=\"M120-120v-720h720v720H120Zm60-500h600v-160H180v160Zm220 220h160v-160H400v160Zm0 220h160v-160H400v160ZM180-400h160v-160H180v160Zm440 0h160v-160H620v160ZM180-180h160v-160H180v160Zm440 0h160v-160H620v160Z\"/>\n",
              "  </svg>\n",
              "    </button>\n",
              "\n",
              "  <style>\n",
              "    .colab-df-container {\n",
              "      display:flex;\n",
              "      gap: 12px;\n",
              "    }\n",
              "\n",
              "    .colab-df-convert {\n",
              "      background-color: #E8F0FE;\n",
              "      border: none;\n",
              "      border-radius: 50%;\n",
              "      cursor: pointer;\n",
              "      display: none;\n",
              "      fill: #1967D2;\n",
              "      height: 32px;\n",
              "      padding: 0 0 0 0;\n",
              "      width: 32px;\n",
              "    }\n",
              "\n",
              "    .colab-df-convert:hover {\n",
              "      background-color: #E2EBFA;\n",
              "      box-shadow: 0px 1px 2px rgba(60, 64, 67, 0.3), 0px 1px 3px 1px rgba(60, 64, 67, 0.15);\n",
              "      fill: #174EA6;\n",
              "    }\n",
              "\n",
              "    .colab-df-buttons div {\n",
              "      margin-bottom: 4px;\n",
              "    }\n",
              "\n",
              "    [theme=dark] .colab-df-convert {\n",
              "      background-color: #3B4455;\n",
              "      fill: #D2E3FC;\n",
              "    }\n",
              "\n",
              "    [theme=dark] .colab-df-convert:hover {\n",
              "      background-color: #434B5C;\n",
              "      box-shadow: 0px 1px 3px 1px rgba(0, 0, 0, 0.15);\n",
              "      filter: drop-shadow(0px 1px 2px rgba(0, 0, 0, 0.3));\n",
              "      fill: #FFFFFF;\n",
              "    }\n",
              "  </style>\n",
              "\n",
              "    <script>\n",
              "      const buttonEl =\n",
              "        document.querySelector('#df-023f1639-a93a-4ac1-88af-45ca0765fe36 button.colab-df-convert');\n",
              "      buttonEl.style.display =\n",
              "        google.colab.kernel.accessAllowed ? 'block' : 'none';\n",
              "\n",
              "      async function convertToInteractive(key) {\n",
              "        const element = document.querySelector('#df-023f1639-a93a-4ac1-88af-45ca0765fe36');\n",
              "        const dataTable =\n",
              "          await google.colab.kernel.invokeFunction('convertToInteractive',\n",
              "                                                    [key], {});\n",
              "        if (!dataTable) return;\n",
              "\n",
              "        const docLinkHtml = 'Like what you see? Visit the ' +\n",
              "          '<a target=\"_blank\" href=https://colab.research.google.com/notebooks/data_table.ipynb>data table notebook</a>'\n",
              "          + ' to learn more about interactive tables.';\n",
              "        element.innerHTML = '';\n",
              "        dataTable['output_type'] = 'display_data';\n",
              "        await google.colab.output.renderOutput(dataTable, element);\n",
              "        const docLink = document.createElement('div');\n",
              "        docLink.innerHTML = docLinkHtml;\n",
              "        element.appendChild(docLink);\n",
              "      }\n",
              "    </script>\n",
              "  </div>\n",
              "\n",
              "\n",
              "<div id=\"df-5e205ca9-26ab-4514-ba1d-39f491c2e092\">\n",
              "  <button class=\"colab-df-quickchart\" onclick=\"quickchart('df-5e205ca9-26ab-4514-ba1d-39f491c2e092')\"\n",
              "            title=\"Suggest charts\"\n",
              "            style=\"display:none;\">\n",
              "\n",
              "<svg xmlns=\"http://www.w3.org/2000/svg\" height=\"24px\"viewBox=\"0 0 24 24\"\n",
              "     width=\"24px\">\n",
              "    <g>\n",
              "        <path d=\"M19 3H5c-1.1 0-2 .9-2 2v14c0 1.1.9 2 2 2h14c1.1 0 2-.9 2-2V5c0-1.1-.9-2-2-2zM9 17H7v-7h2v7zm4 0h-2V7h2v10zm4 0h-2v-4h2v4z\"/>\n",
              "    </g>\n",
              "</svg>\n",
              "  </button>\n",
              "\n",
              "<style>\n",
              "  .colab-df-quickchart {\n",
              "      --bg-color: #E8F0FE;\n",
              "      --fill-color: #1967D2;\n",
              "      --hover-bg-color: #E2EBFA;\n",
              "      --hover-fill-color: #174EA6;\n",
              "      --disabled-fill-color: #AAA;\n",
              "      --disabled-bg-color: #DDD;\n",
              "  }\n",
              "\n",
              "  [theme=dark] .colab-df-quickchart {\n",
              "      --bg-color: #3B4455;\n",
              "      --fill-color: #D2E3FC;\n",
              "      --hover-bg-color: #434B5C;\n",
              "      --hover-fill-color: #FFFFFF;\n",
              "      --disabled-bg-color: #3B4455;\n",
              "      --disabled-fill-color: #666;\n",
              "  }\n",
              "\n",
              "  .colab-df-quickchart {\n",
              "    background-color: var(--bg-color);\n",
              "    border: none;\n",
              "    border-radius: 50%;\n",
              "    cursor: pointer;\n",
              "    display: none;\n",
              "    fill: var(--fill-color);\n",
              "    height: 32px;\n",
              "    padding: 0;\n",
              "    width: 32px;\n",
              "  }\n",
              "\n",
              "  .colab-df-quickchart:hover {\n",
              "    background-color: var(--hover-bg-color);\n",
              "    box-shadow: 0 1px 2px rgba(60, 64, 67, 0.3), 0 1px 3px 1px rgba(60, 64, 67, 0.15);\n",
              "    fill: var(--button-hover-fill-color);\n",
              "  }\n",
              "\n",
              "  .colab-df-quickchart-complete:disabled,\n",
              "  .colab-df-quickchart-complete:disabled:hover {\n",
              "    background-color: var(--disabled-bg-color);\n",
              "    fill: var(--disabled-fill-color);\n",
              "    box-shadow: none;\n",
              "  }\n",
              "\n",
              "  .colab-df-spinner {\n",
              "    border: 2px solid var(--fill-color);\n",
              "    border-color: transparent;\n",
              "    border-bottom-color: var(--fill-color);\n",
              "    animation:\n",
              "      spin 1s steps(1) infinite;\n",
              "  }\n",
              "\n",
              "  @keyframes spin {\n",
              "    0% {\n",
              "      border-color: transparent;\n",
              "      border-bottom-color: var(--fill-color);\n",
              "      border-left-color: var(--fill-color);\n",
              "    }\n",
              "    20% {\n",
              "      border-color: transparent;\n",
              "      border-left-color: var(--fill-color);\n",
              "      border-top-color: var(--fill-color);\n",
              "    }\n",
              "    30% {\n",
              "      border-color: transparent;\n",
              "      border-left-color: var(--fill-color);\n",
              "      border-top-color: var(--fill-color);\n",
              "      border-right-color: var(--fill-color);\n",
              "    }\n",
              "    40% {\n",
              "      border-color: transparent;\n",
              "      border-right-color: var(--fill-color);\n",
              "      border-top-color: var(--fill-color);\n",
              "    }\n",
              "    60% {\n",
              "      border-color: transparent;\n",
              "      border-right-color: var(--fill-color);\n",
              "    }\n",
              "    80% {\n",
              "      border-color: transparent;\n",
              "      border-right-color: var(--fill-color);\n",
              "      border-bottom-color: var(--fill-color);\n",
              "    }\n",
              "    90% {\n",
              "      border-color: transparent;\n",
              "      border-bottom-color: var(--fill-color);\n",
              "    }\n",
              "  }\n",
              "</style>\n",
              "\n",
              "  <script>\n",
              "    async function quickchart(key) {\n",
              "      const quickchartButtonEl =\n",
              "        document.querySelector('#' + key + ' button');\n",
              "      quickchartButtonEl.disabled = true;  // To prevent multiple clicks.\n",
              "      quickchartButtonEl.classList.add('colab-df-spinner');\n",
              "      try {\n",
              "        const charts = await google.colab.kernel.invokeFunction(\n",
              "            'suggestCharts', [key], {});\n",
              "      } catch (error) {\n",
              "        console.error('Error during call to suggestCharts:', error);\n",
              "      }\n",
              "      quickchartButtonEl.classList.remove('colab-df-spinner');\n",
              "      quickchartButtonEl.classList.add('colab-df-quickchart-complete');\n",
              "    }\n",
              "    (() => {\n",
              "      let quickchartButtonEl =\n",
              "        document.querySelector('#df-5e205ca9-26ab-4514-ba1d-39f491c2e092 button');\n",
              "      quickchartButtonEl.style.display =\n",
              "        google.colab.kernel.accessAllowed ? 'block' : 'none';\n",
              "    })();\n",
              "  </script>\n",
              "</div>\n",
              "\n",
              "    </div>\n",
              "  </div>\n"
            ],
            "application/vnd.google.colaboratory.intrinsic+json": {
              "type": "dataframe",
              "variable_name": "df",
              "summary": "{\n  \"name\": \"df\",\n  \"rows\": 12294,\n  \"fields\": [\n    {\n      \"column\": \"anime_id\",\n      \"properties\": {\n        \"dtype\": \"number\",\n        \"std\": 11455,\n        \"min\": 1,\n        \"max\": 34527,\n        \"num_unique_values\": 12294,\n        \"samples\": [\n          17209,\n          173,\n          3616\n        ],\n        \"semantic_type\": \"\",\n        \"description\": \"\"\n      }\n    },\n    {\n      \"column\": \"name\",\n      \"properties\": {\n        \"dtype\": \"string\",\n        \"num_unique_values\": 12292,\n        \"samples\": [\n          \"Nils no Fushigi na Tabi (Movie)\",\n          \"Tactics\",\n          \"Kamen no Maid Guy\"\n        ],\n        \"semantic_type\": \"\",\n        \"description\": \"\"\n      }\n    },\n    {\n      \"column\": \"genre\",\n      \"properties\": {\n        \"dtype\": \"category\",\n        \"num_unique_values\": 3265,\n        \"samples\": [\n          \"Drama, Sci-Fi, Space\",\n          \"Action, Adventure, Comedy, Demons, Fantasy, Magic, Romance, Shounen, Supernatural\",\n          \"Action, Comedy, Harem, Parody, Romance\"\n        ],\n        \"semantic_type\": \"\",\n        \"description\": \"\"\n      }\n    },\n    {\n      \"column\": \"type\",\n      \"properties\": {\n        \"dtype\": \"category\",\n        \"num_unique_values\": 6,\n        \"samples\": [\n          \"Movie\",\n          \"TV\",\n          \"ONA\"\n        ],\n        \"semantic_type\": \"\",\n        \"description\": \"\"\n      }\n    },\n    {\n      \"column\": \"episodes\",\n      \"properties\": {\n        \"dtype\": \"category\",\n        \"num_unique_values\": 187,\n        \"samples\": [\n          \"141\",\n          \"54\",\n          \"52\"\n        ],\n        \"semantic_type\": \"\",\n        \"description\": \"\"\n      }\n    },\n    {\n      \"column\": \"rating\",\n      \"properties\": {\n        \"dtype\": \"number\",\n        \"std\": 1.0267463068980598,\n        \"min\": 1.67,\n        \"max\": 10.0,\n        \"num_unique_values\": 598,\n        \"samples\": [\n          7.87,\n          6.11,\n          4.1\n        ],\n        \"semantic_type\": \"\",\n        \"description\": \"\"\n      }\n    },\n    {\n      \"column\": \"members\",\n      \"properties\": {\n        \"dtype\": \"number\",\n        \"std\": 54820,\n        \"min\": 5,\n        \"max\": 1013917,\n        \"num_unique_values\": 6706,\n        \"samples\": [\n          170754,\n          1515,\n          66376\n        ],\n        \"semantic_type\": \"\",\n        \"description\": \"\"\n      }\n    }\n  ]\n}"
            }
          },
          "metadata": {},
          "execution_count": 10
        }
      ]
    },
    {
      "cell_type": "code",
      "source": [
        "df.dtypes"
      ],
      "metadata": {
        "colab": {
          "base_uri": "https://localhost:8080/",
          "height": 303
        },
        "id": "QhJRak_wSNbL",
        "outputId": "1d7a37bc-bcd5-4f7f-a729-bce3f8179ecb"
      },
      "execution_count": 11,
      "outputs": [
        {
          "output_type": "execute_result",
          "data": {
            "text/plain": [
              "anime_id      int64\n",
              "name         object\n",
              "genre        object\n",
              "type         object\n",
              "episodes     object\n",
              "rating      float64\n",
              "members       int64\n",
              "dtype: object"
            ],
            "text/html": [
              "<div>\n",
              "<style scoped>\n",
              "    .dataframe tbody tr th:only-of-type {\n",
              "        vertical-align: middle;\n",
              "    }\n",
              "\n",
              "    .dataframe tbody tr th {\n",
              "        vertical-align: top;\n",
              "    }\n",
              "\n",
              "    .dataframe thead th {\n",
              "        text-align: right;\n",
              "    }\n",
              "</style>\n",
              "<table border=\"1\" class=\"dataframe\">\n",
              "  <thead>\n",
              "    <tr style=\"text-align: right;\">\n",
              "      <th></th>\n",
              "      <th>0</th>\n",
              "    </tr>\n",
              "  </thead>\n",
              "  <tbody>\n",
              "    <tr>\n",
              "      <th>anime_id</th>\n",
              "      <td>int64</td>\n",
              "    </tr>\n",
              "    <tr>\n",
              "      <th>name</th>\n",
              "      <td>object</td>\n",
              "    </tr>\n",
              "    <tr>\n",
              "      <th>genre</th>\n",
              "      <td>object</td>\n",
              "    </tr>\n",
              "    <tr>\n",
              "      <th>type</th>\n",
              "      <td>object</td>\n",
              "    </tr>\n",
              "    <tr>\n",
              "      <th>episodes</th>\n",
              "      <td>object</td>\n",
              "    </tr>\n",
              "    <tr>\n",
              "      <th>rating</th>\n",
              "      <td>float64</td>\n",
              "    </tr>\n",
              "    <tr>\n",
              "      <th>members</th>\n",
              "      <td>int64</td>\n",
              "    </tr>\n",
              "  </tbody>\n",
              "</table>\n",
              "</div><br><label><b>dtype:</b> object</label>"
            ]
          },
          "metadata": {},
          "execution_count": 11
        }
      ]
    },
    {
      "cell_type": "code",
      "source": [
        "df.info()"
      ],
      "metadata": {
        "colab": {
          "base_uri": "https://localhost:8080/"
        },
        "id": "Uw1rcSciSavA",
        "outputId": "38c0c021-1b7b-423d-ae3c-9640f4724562"
      },
      "execution_count": 12,
      "outputs": [
        {
          "output_type": "stream",
          "name": "stdout",
          "text": [
            "<class 'pandas.core.frame.DataFrame'>\n",
            "RangeIndex: 12294 entries, 0 to 12293\n",
            "Data columns (total 7 columns):\n",
            " #   Column    Non-Null Count  Dtype  \n",
            "---  ------    --------------  -----  \n",
            " 0   anime_id  12294 non-null  int64  \n",
            " 1   name      12294 non-null  object \n",
            " 2   genre     12294 non-null  object \n",
            " 3   type      12269 non-null  object \n",
            " 4   episodes  12294 non-null  object \n",
            " 5   rating    12064 non-null  float64\n",
            " 6   members   12294 non-null  int64  \n",
            "dtypes: float64(1), int64(2), object(4)\n",
            "memory usage: 672.5+ KB\n"
          ]
        }
      ]
    },
    {
      "cell_type": "code",
      "source": [
        "# 1. Handle Missing Values\n",
        "# Handle missing values in 'genre' by filling with an empty string\n",
        "df['genre'].fillna('', inplace=True) # Replace anime_data with df"
      ],
      "metadata": {
        "colab": {
          "base_uri": "https://localhost:8080/"
        },
        "id": "sE5rpTupR77N",
        "outputId": "a3228951-9cae-4717-db6a-f296a8db4912"
      },
      "execution_count": 9,
      "outputs": [
        {
          "output_type": "stream",
          "name": "stderr",
          "text": [
            "<ipython-input-9-2d46d0261fb1>:3: FutureWarning: A value is trying to be set on a copy of a DataFrame or Series through chained assignment using an inplace method.\n",
            "The behavior will change in pandas 3.0. This inplace method will never work because the intermediate object on which we are setting values always behaves as a copy.\n",
            "\n",
            "For example, when doing 'df[col].method(value, inplace=True)', try using 'df.method({col: value}, inplace=True)' or df[col] = df[col].method(value) instead, to perform the operation inplace on the original object.\n",
            "\n",
            "\n",
            "  df['genre'].fillna('', inplace=True) # Replace anime_data with df\n"
          ]
        }
      ]
    },
    {
      "cell_type": "code",
      "source": [
        "# Handle missing values in 'rating' by filling with the mean rating\n",
        "df['rating'].fillna(df['rating'].mean(), inplace=True)"
      ],
      "metadata": {
        "colab": {
          "base_uri": "https://localhost:8080/"
        },
        "id": "tUPYm-BGSjVA",
        "outputId": "8b61a1b1-4a43-4d04-b3b7-6815282c638a"
      },
      "execution_count": 13,
      "outputs": [
        {
          "output_type": "stream",
          "name": "stderr",
          "text": [
            "<ipython-input-13-9593ff4eb8bf>:2: FutureWarning: A value is trying to be set on a copy of a DataFrame or Series through chained assignment using an inplace method.\n",
            "The behavior will change in pandas 3.0. This inplace method will never work because the intermediate object on which we are setting values always behaves as a copy.\n",
            "\n",
            "For example, when doing 'df[col].method(value, inplace=True)', try using 'df.method({col: value}, inplace=True)' or df[col] = df[col].method(value) instead, to perform the operation inplace on the original object.\n",
            "\n",
            "\n",
            "  df['rating'].fillna(df['rating'].mean(), inplace=True)\n"
          ]
        }
      ]
    },
    {
      "cell_type": "code",
      "source": [
        "# Replace 'Unknown' in the 'episodes' column with np.nan, and then convert to float\n",
        "df['episodes'] = df['episodes'].replace('Unknown', np.nan).astype(float)\n"
      ],
      "metadata": {
        "id": "uzivb5nkUSGm"
      },
      "execution_count": 18,
      "outputs": []
    },
    {
      "cell_type": "code",
      "source": [
        "# Alternatively to fill NaN values with a default (like 0 or median)\n",
        "df['episodes'].fillna(0, inplace=True)  # Replace NaN with 0"
      ],
      "metadata": {
        "id": "qXjqs4HlT4ov"
      },
      "execution_count": 17,
      "outputs": []
    },
    {
      "cell_type": "code",
      "source": [
        "# 2. Explore and Understand the Data Structure\n",
        "print(\"Data Info:\")\n",
        "print(df.info())  # Check column types and non-null values\n"
      ],
      "metadata": {
        "colab": {
          "base_uri": "https://localhost:8080/"
        },
        "id": "dY6MGmICUXRN",
        "outputId": "a4416589-a6c0-467f-b36c-228efa2c9008"
      },
      "execution_count": 19,
      "outputs": [
        {
          "output_type": "stream",
          "name": "stdout",
          "text": [
            "Data Info:\n",
            "<class 'pandas.core.frame.DataFrame'>\n",
            "RangeIndex: 12294 entries, 0 to 12293\n",
            "Data columns (total 7 columns):\n",
            " #   Column    Non-Null Count  Dtype  \n",
            "---  ------    --------------  -----  \n",
            " 0   anime_id  12294 non-null  int64  \n",
            " 1   name      12294 non-null  object \n",
            " 2   genre     12294 non-null  object \n",
            " 3   type      12269 non-null  object \n",
            " 4   episodes  12294 non-null  float64\n",
            " 5   rating    12294 non-null  float64\n",
            " 6   members   12294 non-null  int64  \n",
            "dtypes: float64(2), int64(2), object(3)\n",
            "memory usage: 672.5+ KB\n",
            "None\n"
          ]
        }
      ]
    },
    {
      "cell_type": "code",
      "source": [
        "print(\"\\nData Description:\")\n",
        "print(df.describe())  # Summary statistics for numerical columns\n"
      ],
      "metadata": {
        "colab": {
          "base_uri": "https://localhost:8080/"
        },
        "id": "x74tiPOTUix2",
        "outputId": "543e3aa5-fe43-49ae-91a8-81d9cf86403d"
      },
      "execution_count": 20,
      "outputs": [
        {
          "output_type": "stream",
          "name": "stdout",
          "text": [
            "\n",
            "Data Description:\n",
            "           anime_id      episodes        rating       members\n",
            "count  12294.000000  12294.000000  12294.000000  1.229400e+04\n",
            "mean   14058.221653     12.040101      6.473902  1.807134e+04\n",
            "std    11455.294701     46.257299      1.017096  5.482068e+04\n",
            "min        1.000000      0.000000      1.670000  5.000000e+00\n",
            "25%     3484.250000      1.000000      5.900000  2.250000e+02\n",
            "50%    10260.500000      2.000000      6.550000  1.550000e+03\n",
            "75%    24794.500000     12.000000      7.170000  9.437000e+03\n",
            "max    34527.000000   1818.000000     10.000000  1.013917e+06\n"
          ]
        }
      ]
    },
    {
      "cell_type": "code",
      "source": [
        "print(\"\\nMissing Values:\")\n",
        "print(df.isnull().sum())  # Check how many missing values remain (if any)\n"
      ],
      "metadata": {
        "colab": {
          "base_uri": "https://localhost:8080/"
        },
        "id": "VAExld3cUpNc",
        "outputId": "a78cd64e-5d84-4db9-a96d-7449d280db2b"
      },
      "execution_count": 21,
      "outputs": [
        {
          "output_type": "stream",
          "name": "stdout",
          "text": [
            "\n",
            "Missing Values:\n",
            "anime_id     0\n",
            "name         0\n",
            "genre        0\n",
            "type        25\n",
            "episodes     0\n",
            "rating       0\n",
            "members      0\n",
            "dtype: int64\n"
          ]
        }
      ]
    },
    {
      "cell_type": "code",
      "source": [
        "# 3. Feature Extraction\n"
      ],
      "metadata": {
        "id": "X4zTlgTYUwe6"
      },
      "execution_count": null,
      "outputs": []
    },
    {
      "cell_type": "code",
      "source": [
        "# Convert 'genre' to numerical form (One-Hot Encoding)\n",
        "df['genre_list'] = df['genre'].apply(lambda x: x.split(', '))\n",
        "genre_dummies = df['genre_list'].str.join('|').str.get_dummies()\n"
      ],
      "metadata": {
        "id": "hFzry9AuUzMb"
      },
      "execution_count": 22,
      "outputs": []
    },
    {
      "cell_type": "code",
      "source": [
        "# Concatenate genre dummies to the original dataframe\n",
        "anime_cleaned = pd.concat([df, genre_dummies], axis=1)\n"
      ],
      "metadata": {
        "id": "DXTRL2eLU-DF"
      },
      "execution_count": 23,
      "outputs": []
    },
    {
      "cell_type": "code",
      "source": [
        "# Drop intermediate columns if not needed anymore\n",
        "anime_cleaned.drop(['genre_list', 'genre'], axis=1, inplace=True)"
      ],
      "metadata": {
        "id": "KspxlwHdVFJJ"
      },
      "execution_count": 24,
      "outputs": []
    },
    {
      "cell_type": "code",
      "source": [
        "# 4. Normalize Numerical Features"
      ],
      "metadata": {
        "id": "PtC0dPWLVIkY"
      },
      "execution_count": null,
      "outputs": []
    },
    {
      "cell_type": "code",
      "source": [
        "# Initialize a MinMaxScaler to normalize 'rating', 'episodes', and 'members'\n",
        "scaler = MinMaxScaler()\n",
        "anime_cleaned[['rating', 'episodes', 'members']] = scaler.fit_transform(anime_cleaned[['rating', 'episodes', 'members']])\n"
      ],
      "metadata": {
        "id": "mIc4crqPVNFe"
      },
      "execution_count": 25,
      "outputs": []
    },
    {
      "cell_type": "code",
      "source": [
        "# Verify the changes\n",
        "print(anime_cleaned.head())  # Display the first few rows of the cleaned and transformed data"
      ],
      "metadata": {
        "colab": {
          "base_uri": "https://localhost:8080/"
        },
        "id": "2CsDgfXLUK6C",
        "outputId": "f404f71c-3aeb-4270-ec4c-d390fac52cc3"
      },
      "execution_count": 26,
      "outputs": [
        {
          "output_type": "stream",
          "name": "stdout",
          "text": [
            "   anime_id                              name   type  episodes    rating  \\\n",
            "0     32281                    Kimi no Na wa.  Movie  0.000550  0.924370   \n",
            "1      5114  Fullmetal Alchemist: Brotherhood     TV  0.035204  0.911164   \n",
            "2     28977                          Gintama°     TV  0.028053  0.909964   \n",
            "3      9253                       Steins;Gate     TV  0.013201  0.900360   \n",
            "4      9969                     Gintama&#039;     TV  0.028053  0.899160   \n",
            "\n",
            "    members  Action  Adventure  Cars  Comedy  ...  Shounen Ai  Slice of Life  \\\n",
            "0  0.197872       0          0     0       0  ...           0              0   \n",
            "1  0.782770       1          1     0       0  ...           0              0   \n",
            "2  0.112689       1          0     0       1  ...           0              0   \n",
            "3  0.664325       0          0     0       0  ...           0              0   \n",
            "4  0.149186       1          0     0       1  ...           0              0   \n",
            "\n",
            "   Space  Sports  Super Power  Supernatural  Thriller  Vampire  Yaoi  Yuri  \n",
            "0      0       0            0             1         0        0     0     0  \n",
            "1      0       0            0             0         0        0     0     0  \n",
            "2      0       0            0             0         0        0     0     0  \n",
            "3      0       0            0             0         1        0     0     0  \n",
            "4      0       0            0             0         0        0     0     0  \n",
            "\n",
            "[5 rows x 49 columns]\n"
          ]
        }
      ]
    },
    {
      "cell_type": "code",
      "source": [
        "# 4. Recommendation System"
      ],
      "metadata": {
        "id": "UCgn59-aWSD0"
      },
      "execution_count": null,
      "outputs": []
    },
    {
      "cell_type": "code",
      "source": [
        "import pandas as pd\n",
        "from sklearn.metrics.pairwise import cosine_similarity\n",
        "from sklearn.preprocessing import MinMaxScaler\n",
        "from sklearn.model_selection import train_test_split\n",
        "from sklearn.metrics import precision_score, recall_score, f1_score"
      ],
      "metadata": {
        "id": "_O0DewRcVvqT"
      },
      "execution_count": 27,
      "outputs": []
    },
    {
      "cell_type": "code",
      "source": [
        "#Cosine Similarity Calculation"
      ],
      "metadata": {
        "id": "C5kSqXHgX3v4"
      },
      "execution_count": null,
      "outputs": []
    },
    {
      "cell_type": "code",
      "source": [
        "# Select relevant features for similarity calculation (genres + rating, episodes, members)\n",
        "features = ['rating', 'episodes', 'members'] + list(genre_dummies.columns)"
      ],
      "metadata": {
        "id": "ns_H-FASXiVx"
      },
      "execution_count": 28,
      "outputs": []
    },
    {
      "cell_type": "code",
      "source": [
        "# Compute cosine similarity based on the selected features\n",
        "cosine_sim = cosine_similarity(anime_cleaned[features])"
      ],
      "metadata": {
        "id": "KTsxsbgrXkwi"
      },
      "execution_count": 29,
      "outputs": []
    },
    {
      "cell_type": "code",
      "source": [
        "# it define a function that will help us recommend similar anime based on this cosine similarity matrix"
      ],
      "metadata": {
        "id": "qPBvOUsDXowK"
      },
      "execution_count": null,
      "outputs": []
    },
    {
      "cell_type": "code",
      "source": [
        "#Recommendation Function"
      ],
      "metadata": {
        "id": "6qwFZSYyXxz2"
      },
      "execution_count": null,
      "outputs": []
    },
    {
      "cell_type": "code",
      "source": [
        "def get_recommendations(anime_name, threshold=0.8, cosine_sim=cosine_sim, anime_cleaned=anime_cleaned):\n",
        "    \"\"\"\n",
        "    Get anime recommendations based on cosine similarity.\n",
        "\n",
        "    Args:\n",
        "        anime_name: The name of the anime to get recommendations for.\n",
        "        threshold: The minimum similarity score to consider.\n",
        "        cosine_sim: The cosine similarity matrix.\n",
        "        anime_cleaned: The cleaned anime DataFrame.\n",
        "\n",
        "    Returns:\n",
        "        A DataFrame containing the top 10 most similar anime.\n",
        "    \"\"\"\n",
        "    # Get the index of the anime by its name\n",
        "    idx = anime_cleaned[anime_cleaned['name'] == anime_name].index[0]\n",
        "\n",
        "    # Get the similarity scores for the given anime\n",
        "    sim_scores = list(enumerate(cosine_sim[idx]))\n",
        "\n",
        "    # Sort the anime based on similarity scores in descending order\n",
        "    sim_scores = sorted(sim_scores, key=lambda x: x[1], reverse=True)\n",
        "\n",
        "    # Apply threshold to filter out low-similarity scores (if desired)\n",
        "    sim_scores = [(i, score) for i, score in sim_scores if score >= threshold]\n",
        "\n",
        "    # Get the indices of the top 10 most similar anime (excluding the anime itself)\n",
        "    anime_indices = [i[0] for i in sim_scores if i[0] != idx][:10]\n",
        "\n",
        "    # Return the top 10 most similar anime along with their similarity scores\n",
        "    return anime_cleaned.iloc[anime_indices][['name', 'rating']]\n",
        "\n",
        "# Test the recommendation function, call function with keyword arguments to avoid ambiguity\n",
        "recommendations = get_recommendations(anime_name=\"Steins;Gate\", anime_cleaned=anime_cleaned, cosine_sim=cosine_sim, threshold=0.6)\n",
        "print(recommendations)"
      ],
      "metadata": {
        "colab": {
          "base_uri": "https://localhost:8080/"
        },
        "id": "n-FlIaADcBos",
        "outputId": "6293d968-81bd-4ad8-b3f6-142361b8aec4"
      },
      "execution_count": 50,
      "outputs": [
        {
          "output_type": "stream",
          "name": "stdout",
          "text": [
            "                                                    name    rating\n",
            "59            Steins;Gate Movie: Fuka Ryouiki no Déjà vu  0.833133\n",
            "126                Steins;Gate: Oukoubakko no Poriomania  0.815126\n",
            "196    Steins;Gate: Kyoukaimenjou no Missing Link - D...  0.800720\n",
            "10898                                      Steins;Gate 0  0.576699\n",
            "5126                                       Under the Dog  0.585834\n",
            "5525                                        Loups=Garous  0.571429\n",
            "6889                                  Loups=Garous Pilot  0.504202\n",
            "5283                   Final Fantasy: The Spirits Within  0.579832\n",
            "1578            Sakasama no Patema: Beginning of the Day  0.699880\n",
            "1594                                  Mai-Otome 0: S.ifr  0.698679\n"
          ]
        }
      ]
    },
    {
      "cell_type": "code",
      "source": [
        "# Evaluation"
      ],
      "metadata": {
        "id": "9HrZJRBgcLSW"
      },
      "execution_count": null,
      "outputs": []
    },
    {
      "cell_type": "code",
      "source": [
        "# Split the dataset into training and testing sets\n",
        "train_data, test_data = train_test_split(anime_cleaned, test_size=0.2, random_state=42)\n"
      ],
      "metadata": {
        "id": "xEpNQ8CBcOUa"
      },
      "execution_count": 51,
      "outputs": []
    },
    {
      "cell_type": "code",
      "source": [
        "# Let's evaluate the recommendation system using precision, recall, and F1-score\n",
        "\n",
        "def evaluate_recommendation_system(test_data, train_data, cosine_sim, threshold=0.5):\n",
        "    y_true = []  # Actual genres of anime in test set\n",
        "    y_pred = []  # Predicted genres based on recommendations\n",
        "\n",
        "    for idx, anime in test_data.iterrows():\n",
        "        # Get the true genre of the anime in the test set (assumed to be binary)\n",
        "        true_genre = set(anime.index[7:])  # Assuming genres start from index 7\n"
      ],
      "metadata": {
        "id": "uz2cE2plccyX"
      },
      "execution_count": 52,
      "outputs": []
    },
    {
      "cell_type": "code",
      "source": [
        "def evaluate_recommendation_system(test_data, train_data, cosine_sim, threshold=0.5):\n",
        "    y_true = []  # Actual genres of anime in test set\n",
        "    y_pred = []  # Predicted genres based on recommendations\n",
        "\n",
        "    # Assuming that the genre columns are one-hot encoded and start after specific columns\n",
        "    genre_columns = train_data.columns[train_data.columns.str.contains('|'.join(genre_dummies.columns))]  # All genre columns\n",
        "\n",
        "    for idx, anime in test_data.iterrows():\n",
        "        # Get the true genre of the anime in the test set (binary values for genres)\n",
        "        # Iterate through genre columns to find those with value 1 for the current anime\n",
        "        true_genre = set()\n",
        "        for genre_col in genre_columns:\n",
        "            if anime[genre_col] == 1:\n",
        "                true_genre.add(genre_col)\n",
        "\n",
        "        # Get recommendations for the anime using the training data\n",
        "        recommendations = get_recommendations(anime['name'], train_data, cosine_sim, threshold)\n",
        "\n",
        "        # Get the genres of the recommended anime (binary)\n",
        "        # Assuming recommendations.index gives you the indices of recommended anime in train_data\n",
        "        predicted_genre = set()\n",
        "        for genre_col in genre_columns:\n",
        "            if any(train_data.loc[recommendations.index, genre_col] == 1):\n",
        "                predicted_genre.add(genre_col)\n",
        "\n",
        "        # Calculate true positives (matching genres)\n",
        "        true_positive = len(true_genre & predicted_genre)\n",
        "        false_positive = len(predicted_genre - true_genre)\n",
        "        false_negative = len(true_genre - predicted_genre)\n",
        "\n",
        "        # For each anime, append the number of true positives and predicted positives\n",
        "        y_true.append(true_positive)\n",
        "        y_pred.append(len(predicted_genre))\n",
        "\n",
        "    # Compute precision, recall, and F1-score\n",
        "    from sklearn.metrics import precision_score, recall_score, f1_score  # Importing necessary metrics\n",
        "    precision = precision_score(y_true, y_pred, average='macro', zero_division=1)  # Handling zero division\n",
        "    recall = recall_score(y_true, y_pred, average='macro', zero_division=1)\n",
        "    f1 = f1_score(y_true, y_pred, average='macro', zero_division=1)\n",
        "\n",
        "    return precision, recall, f1"
      ],
      "metadata": {
        "id": "TOrbStxmf3BH"
      },
      "execution_count": 66,
      "outputs": []
    },
    {
      "cell_type": "markdown",
      "source": [
        "# Interview Questions:\n",
        "\n",
        "# 1. Can you explain the difference between user-based and item-based collaborative filtering?\n",
        "\n",
        "User-Based Collaborative Filtering\n",
        "Focus: Recommends items based on the preferences of similar users.\n",
        "\n",
        "How It Works:\n",
        "\n",
        "1.Finds users who are similar to the target user based on their ratings.\n",
        "2.Recommends items that those similar users liked.\n",
        "Example: If User A and User B have similar tastes, and User A liked a movie that User B hasn't seen, that movie might be recommended to User B.\n",
        "\n",
        "Item-Based Collaborative Filtering\n",
        "\n",
        "Focus: Recommends items based on the similarity of items themselves.\n",
        "\n",
        "How It Works:\n",
        "\n",
        "1.Finds items similar to those the target user has liked or rated highly.\n",
        "2.Recommends those similar items to the user.\n",
        "Example: If a user liked Movie A, and Movie A is similar to Movie B, then Movie B might be recommended to that user.\n",
        "\n",
        "\n",
        "# 2. What is collaborative filtering, and how does it work?\n",
        "\n",
        "What is Collaborative Filtering?\n",
        "\n",
        "Collaborative Filtering is a technique used in recommendation systems to suggest items (like movies, products, or music) to users based on the preferences of other users. It relies on the idea that if users agree in the past, they will likely agree in the future.\n",
        "\n",
        "How Does It Work?\n",
        "\n",
        "1.Data Collection:\n",
        "\n",
        "Gather data on users and their interactions with items. This can include ratings, likes, purchases, or clicks.\n",
        "\n",
        "2.User-Item Matrix:\n",
        "\n",
        "Create a matrix where rows represent users and columns represent items. Each cell contains a score showing how much a user likes an item (like a rating).\n",
        "\n",
        "3.Calculate Similarity:\n",
        "\n",
        "Determine how similar users are to each other or how similar items are to each other using methods like:\n",
        "Cosine Similarity: Measures the angle between two user/item vectors.\n",
        "Pearson Correlation: Measures how closely two users/items relate to each other.\n",
        "\n",
        "4.Make Recommendations:\n",
        "\n",
        "User-Based: Find users similar to the target user and recommend items they liked.\n",
        "Item-Based: Find items similar to those the user has already liked and recommend those.\n",
        "\n",
        "Example in Simple Terms\n",
        "1.If User A and User B both liked similar movies, and User A liked a new movie, then that new movie might be recommended to User B.\n",
        "\n",
        "2.If Movie A is similar to Movie B, and a user liked Movie A, then Movie B might be suggested to that user.\n"
      ],
      "metadata": {
        "id": "v5pDQ6GBnerz"
      }
    },
    {
      "cell_type": "markdown",
      "source": [],
      "metadata": {
        "id": "za8Dsuurm_6O"
      }
    }
  ]
}