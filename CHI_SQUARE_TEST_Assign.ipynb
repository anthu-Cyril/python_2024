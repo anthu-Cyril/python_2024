{
  "nbformat": 4,
  "nbformat_minor": 0,
  "metadata": {
    "colab": {
      "provenance": []
    },
    "kernelspec": {
      "name": "python3",
      "display_name": "Python 3"
    },
    "language_info": {
      "name": "python"
    }
  },
  "cells": [
    {
      "cell_type": "code",
      "execution_count": null,
      "metadata": {
        "id": "PUDE4asnFdMx"
      },
      "outputs": [],
      "source": [
        " # CHI-SQUARE TEST"
      ]
    },
    {
      "cell_type": "code",
      "source": [
        "import pandas as pd\n",
        "import numpy as np\n",
        "from scipy.stats import chi2_contingency"
      ],
      "metadata": {
        "id": "Z10anaxiFw4z"
      },
      "execution_count": 1,
      "outputs": []
    },
    {
      "cell_type": "code",
      "source": [
        "import matplotlib.pyplot as plt"
      ],
      "metadata": {
        "id": "BmpkS7j5F4UI"
      },
      "execution_count": 2,
      "outputs": []
    },
    {
      "cell_type": "code",
      "source": [
        "import seaborn as sns\n"
      ],
      "metadata": {
        "id": "ZfC89dGFGAhI"
      },
      "execution_count": 3,
      "outputs": []
    },
    {
      "cell_type": "code",
      "source": [
        "import numpy as np\n",
        "import scipy.stats as stats"
      ],
      "metadata": {
        "id": "_mL7EKaaGMXe"
      },
      "execution_count": 4,
      "outputs": []
    },
    {
      "cell_type": "code",
      "source": [
        "# Observed frequencies\n",
        "observed = np.array([\n",
        "    [50, 70],\n",
        "    [80, 100],\n",
        "    [60, 90],\n",
        "    [30, 50],\n",
        "    [20, 50]\n",
        "])"
      ],
      "metadata": {
        "id": "UciVYyT8GQRI"
      },
      "execution_count": 5,
      "outputs": []
    },
    {
      "cell_type": "code",
      "source": [
        "# Row and Column totals\n",
        "import numpy as np\n",
        "observed = np.array([[10, 10, 20],\n",
        "                     [20, 20, 20]])\n",
        "row_totals = observed.sum(axis=1)\n",
        "col_totals = observed.sum(axis=0)\n",
        "grand_total = observed.sum()"
      ],
      "metadata": {
        "id": "HbfnDELLGgr2"
      },
      "execution_count": 6,
      "outputs": []
    },
    {
      "cell_type": "code",
      "source": [
        "# Expected frequencies"
      ],
      "metadata": {
        "id": "_e6MdX2YGzgm"
      },
      "execution_count": null,
      "outputs": []
    },
    {
      "cell_type": "code",
      "source": [
        "expected = np.outer(row_totals, col_totals) / grand_total"
      ],
      "metadata": {
        "id": "AhNFwjuSG34v"
      },
      "execution_count": 7,
      "outputs": []
    },
    {
      "cell_type": "code",
      "source": [
        "# Chi-Square Statistic"
      ],
      "metadata": {
        "id": "Dqn-4JcTG-c6"
      },
      "execution_count": null,
      "outputs": []
    },
    {
      "cell_type": "code",
      "source": [
        "chi_square_statistic = ((observed - expected) ** 2 / expected).sum()"
      ],
      "metadata": {
        "id": "WOb1v39LHBv_"
      },
      "execution_count": 8,
      "outputs": []
    },
    {
      "cell_type": "code",
      "source": [
        "# Degrees of freedom"
      ],
      "metadata": {
        "id": "SpQZq8C5HJ0o"
      },
      "execution_count": null,
      "outputs": []
    },
    {
      "cell_type": "code",
      "source": [
        "degrees_of_freedom = (observed.shape[0] - 1) * (observed.shape[1] - 1)"
      ],
      "metadata": {
        "id": "2_G2lG98HNIE"
      },
      "execution_count": 9,
      "outputs": []
    },
    {
      "cell_type": "code",
      "source": [
        "  # Critical value from the chi-square distribution table at 0.05 significance level"
      ],
      "metadata": {
        "id": "8Ptb3QtpHSZv"
      },
      "execution_count": null,
      "outputs": []
    },
    {
      "cell_type": "code",
      "source": [
        "critical_value = stats.chi2.ppf(0.95, degrees_of_freedom)\n"
      ],
      "metadata": {
        "id": "pxGqnqc-HZFA"
      },
      "execution_count": 10,
      "outputs": []
    },
    {
      "cell_type": "code",
      "source": [
        "  # P-value"
      ],
      "metadata": {
        "id": "hu-2_o0vHevI"
      },
      "execution_count": null,
      "outputs": []
    },
    {
      "cell_type": "code",
      "source": [
        "p_value = 1 - stats.chi2.cdf(chi_square_statistic, degrees_of_freedom)"
      ],
      "metadata": {
        "id": "Ovz4BMAiHkuG"
      },
      "execution_count": 11,
      "outputs": []
    },
    {
      "cell_type": "code",
      "source": [
        "# Decision"
      ],
      "metadata": {
        "id": "g9eYuNb0HpSy"
      },
      "execution_count": null,
      "outputs": []
    },
    {
      "cell_type": "code",
      "source": [
        "reject_null = chi_square_statistic > critical_value"
      ],
      "metadata": {
        "id": "9xXKc3vXHsr_"
      },
      "execution_count": 12,
      "outputs": []
    },
    {
      "cell_type": "code",
      "source": [
        "# Results"
      ],
      "metadata": {
        "id": "pM6c5pg-HwV7"
      },
      "execution_count": null,
      "outputs": []
    },
    {
      "cell_type": "code",
      "source": [
        "chi_square_statistic, critical_value, p_value, reject_null"
      ],
      "metadata": {
        "colab": {
          "base_uri": "https://localhost:8080/"
        },
        "id": "j5PQhYy6H0LL",
        "outputId": "6da8da97-d50f-4de3-8850-42e14b4368ee"
      },
      "execution_count": 13,
      "outputs": [
        {
          "output_type": "execute_result",
          "data": {
            "text/plain": [
              "(2.7777777777777777, 5.991464547107979, 0.24935220877729625, False)"
            ]
          },
          "metadata": {},
          "execution_count": 13
        }
      ]
    },
    {
      "cell_type": "markdown",
      "source": [
        "Explanation:\n",
        "\n",
        "1. Chi-Square Statistic: The calculated Chi-Square statistic.\n",
        "2. Critical Value: The critical value at the 0.05 significance level for the given degrees of freedom.\n",
        "3. P-Value: The probability of observing a Chi-Square statistic as extreme as, or more extreme than, the observed statistic under the null hypothesis.\n",
        "4. Decision: Whether to reject the null hypothesis based on the comparison of the Chi-Square statistic with the critical value."
      ],
      "metadata": {
        "id": "XCBSSGfvIa85"
      }
    },
    {
      "cell_type": "markdown",
      "source": [
        "Conclusion:\n",
        "Based on the output:\n",
        "\n",
        "1.If the Chi-Square statistic is greater than the critical value, we reject the null hypothesis, indicating a significant association between device type and customer satisfaction.\n",
        "Otherwise,\n",
        "2.we fail to reject the null hypothesis, indicating no significant association\n",
        "\n",
        "\n",
        "There is no significant association between the type of smart home device purchased (Smart Thermostats vs. Smart Lights) and customer satisfaction level. This means that customer satisfaction does not significantly depend on whether they purchased a Smart Thermostat or a Smart Light.\n",
        "\n"
      ],
      "metadata": {
        "id": "uZRYQ-L3ICtK"
      }
    },
    {
      "cell_type": "markdown",
      "source": [
        "### Detailed Report\n",
        "\n",
        "1. State the Hypotheses\n",
        "\n",
        "Null Hypothesis (H0): There is no significant association between the type of smart home device purchased (Smart Thermostats vs. Smart Lights) and customer satisfaction level.\n",
        "\n",
        "Alternative Hypothesis (H1): There is a significant association between the type of smart home device purchased and customer satisfaction level.\n",
        "\n",
        "2. Compute the Chi-Square Statistic:\n",
        "\n",
        "Chi-Square Statistic:\n",
        "\n",
        "𝜒\n",
        "2\n",
        "=\n",
        "5.64\n",
        "χ\n",
        "2\n",
        " =5.64\n",
        "\n",
        "3. Determine the Critical Value:\n",
        "\n",
        "Degrees of Freedom:\n",
        "(\n",
        "5\n",
        "−\n",
        "1\n",
        ")\n",
        "×\n",
        "(\n",
        "2\n",
        "−\n",
        "1\n",
        ")\n",
        "=\n",
        "4\n",
        "(5−1)×(2−1)=4\n",
        "\n",
        "Critical Value (at\n",
        "𝛼\n",
        "=\n",
        "0.05\n",
        "α=0.05):\n",
        "9.49\n",
        "9.49\n",
        "\n",
        "4. Make a Decision:\n",
        "\n",
        "P-Value:\n",
        "0.23\n",
        "0.23\n",
        "\n",
        "**Decision:**\n",
        "\n",
        " Since the Chi-Square statistic (\n",
        "5.64\n",
        "5.64) is less than the critical value (\n",
        "9.49\n",
        "9.49) and the p-value (\n",
        "0.23\n",
        "0.23) is greater than 0.05, we fail to reject the null hypothesis.\n",
        "\n",
        "# Conclusion:\n",
        "\n",
        "There is no significant association between the type of smart home device purchased (Smart Thermostats vs. Smart Lights) and customer satisfaction level. This means that customer satisfaction does not significantly depend on whether they purchased a Smart Thermostat or a Smart Light."
      ],
      "metadata": {
        "id": "jLY8kyoGJjG8"
      }
    }
  ]
}