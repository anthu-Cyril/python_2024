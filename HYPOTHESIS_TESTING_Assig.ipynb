{
  "nbformat": 4,
  "nbformat_minor": 0,
  "metadata": {
    "colab": {
      "provenance": []
    },
    "kernelspec": {
      "name": "python3",
      "display_name": "Python 3"
    },
    "language_info": {
      "name": "python"
    }
  },
  "cells": [
    {
      "cell_type": "code",
      "source": [
        "# HYPOTHESIS TESTING"
      ],
      "metadata": {
        "id": "kaO1tcAWx6aS"
      },
      "execution_count": null,
      "outputs": []
    },
    {
      "cell_type": "code",
      "execution_count": 1,
      "metadata": {
        "id": "bL80jVd9w5Lf"
      },
      "outputs": [],
      "source": [
        "import numpy as np"
      ]
    },
    {
      "cell_type": "code",
      "source": [
        "import pandas as pd"
      ],
      "metadata": {
        "id": "vysJJar-xCRj"
      },
      "execution_count": 2,
      "outputs": []
    },
    {
      "cell_type": "code",
      "source": [
        "import matplotlib.pyplot as plt"
      ],
      "metadata": {
        "id": "m1qMbKywxHxb"
      },
      "execution_count": 3,
      "outputs": []
    },
    {
      "cell_type": "code",
      "source": [
        "import math\n",
        "from scipy.stats import norm\n"
      ],
      "metadata": {
        "id": "bs-lI9a8xWmm"
      },
      "execution_count": 6,
      "outputs": []
    },
    {
      "cell_type": "markdown",
      "source": [
        "1. State the Hypotheses:\n",
        "\n",
        "Null Hypothesis (H₀)\n",
        " The weekly operating cost model is accurate, i.e., the actual mean weekly cost is equal to the theoretical mean weekly cost.\n",
        "\n",
        "𝐻\n",
        "0\n",
        ":\n",
        "𝜇\n",
        "=\n",
        "1000\n",
        "+\n",
        "5\n",
        "𝑋\n",
        "=\n",
        "1000\n",
        "+\n",
        "5\n",
        "(\n",
        "600\n",
        ")\n",
        "=\n",
        "4000\n",
        "H\n",
        "0\n",
        "​\n",
        " :μ=1000+5X=1000+5(600)=4000\n",
        "\n",
        "Alternative Hypothesis (H₁): The actual mean weekly cost is higher than the theoretical mean weekly cost.\n",
        "\n",
        "𝐻\n",
        "1\n",
        ":\n",
        "𝜇\n",
        ">\n",
        "4000\n",
        "H\n",
        "1\n",
        "​\n",
        " :μ>4000"
      ],
      "metadata": {
        "id": "hnJHQ8h-6ziQ"
      }
    },
    {
      "cell_type": "code",
      "source": [
        "# Given info"
      ],
      "metadata": {
        "id": "Cv7GN6KGxxN_"
      },
      "execution_count": null,
      "outputs": []
    },
    {
      "cell_type": "code",
      "source": [
        "sample_mean = 3050  # Rs.\n",
        "theoretical_mean = 1000 + 5 * 600  # Rs.\n",
        "sigma = 5 * 25  # Rs.\n",
        "n = 25"
      ],
      "metadata": {
        "id": "JG7VnQrWxnOr"
      },
      "execution_count": 7,
      "outputs": []
    },
    {
      "cell_type": "markdown",
      "source": [
        "2. Calculate the Test Statistic:\n",
        "The test statistic\n",
        "𝑡\n",
        "t is calculated using the formula:\n",
        "\n",
        "𝑡\n",
        "=\n",
        "𝑥\n",
        "ˉ\n",
        "−\n",
        "𝜇\n",
        "𝜎\n",
        "𝑛\n",
        "t=\n",
        "n\n",
        "​\n",
        "\n",
        "σ\n",
        "​\n",
        "\n",
        "x\n",
        "ˉ\n",
        " −μ\n",
        "​\n",
        "\n",
        "Where:\n",
        "\n",
        "𝑥\n",
        "ˉ\n",
        "x\n",
        "ˉ\n",
        "  = sample mean weekly cost = 3050 Rs.\n",
        "𝜇\n",
        "μ = theoretical mean weekly cost = 4000 Rs.\n",
        "𝜎\n",
        "=\n",
        "5\n",
        "×\n",
        "25\n",
        "=\n",
        "125\n",
        "σ=5×25=125 Rs. (since\n",
        "𝜎\n",
        "σ = 5 * standard deviation of units)\n",
        "𝑛\n",
        "n = sample size = 25\n",
        "Substitute the values into the formula:\n",
        "\n",
        "𝑡\n",
        "=\n",
        "3050\n",
        "−\n",
        "4000\n",
        "125\n",
        "25\n",
        "=\n",
        "−\n",
        "950\n",
        "125\n",
        "5\n",
        "=\n",
        "−\n",
        "950\n",
        "25\n",
        "=\n",
        "−\n",
        "38\n",
        "t=\n",
        "25\n",
        "​\n",
        "\n",
        "125\n",
        "​\n",
        "\n",
        "3050−4000\n",
        "​\n",
        " =\n",
        "5\n",
        "125\n",
        "​\n",
        "\n",
        "−950\n",
        "​\n",
        " =\n",
        "25\n",
        "−950\n",
        "​\n",
        " =−38"
      ],
      "metadata": {
        "id": "nNQk0jSG7Chy"
      }
    },
    {
      "cell_type": "code",
      "source": [
        "#Calculate the test statistic"
      ],
      "metadata": {
        "id": "Un4yUk1myUfn"
      },
      "execution_count": null,
      "outputs": []
    },
    {
      "cell_type": "code",
      "source": [
        "test_statistic = (sample_mean - theoretical_mean) / (sigma / math.sqrt(n))"
      ],
      "metadata": {
        "id": "OC6Ys1ckydHD"
      },
      "execution_count": 8,
      "outputs": []
    },
    {
      "cell_type": "markdown",
      "source": [
        "3. Determine the Critical Value:\n",
        "\n",
        "Using a significance level\n",
        "\n",
        "𝛼\n",
        "=\n",
        "0.05\n",
        "α=0.05 for a one-tailed test, it determine the critical value from the standard normal distribution table.\n",
        "\n",
        "For\n",
        "𝛼\n",
        "=\n",
        "0.05\n",
        "α=0.05, the critical value\n",
        "𝑧\n",
        "𝛼\n",
        "z\n",
        "α\n",
        "​\n",
        "  is approximately 1.645."
      ],
      "metadata": {
        "id": "eAnNIkSm4lEy"
      }
    },
    {
      "cell_type": "code",
      "source": [
        "# Critical value for one-tailed test at alpha = 0.05"
      ],
      "metadata": {
        "id": "q0WyVZyxxvuB"
      },
      "execution_count": null,
      "outputs": []
    },
    {
      "cell_type": "code",
      "source": [
        "alpha = 0.05\n",
        "critical_value = norm.ppf(1 - alpha)"
      ],
      "metadata": {
        "id": "zqypULJ_yr0t"
      },
      "execution_count": 9,
      "outputs": []
    },
    {
      "cell_type": "markdown",
      "source": [
        "4. Make a Decision:\n",
        "\n",
        "If the test statistic\n",
        "𝑡\n",
        "t is less than the negative of the critical value\n",
        "𝑧\n",
        "𝛼\n",
        "z\n",
        "α\n",
        "​\n",
        " , then reject the null hypothesis.\n",
        "Given the test statistic\n",
        "𝑡\n",
        "=\n",
        "−\n",
        "38\n",
        "t=−38 and the critical value\n",
        "𝑧\n",
        "𝛼\n",
        "=\n",
        "1.645\n",
        "z\n",
        "α\n",
        "​\n",
        " =1.645:\n",
        "\n",
        "𝑡\n",
        "=\n",
        "−\n",
        "38\n",
        "t=−38 is far less than\n",
        "−\n",
        "1.645\n",
        "−1.645, so you reject the null hypothesis."
      ],
      "metadata": {
        "id": "YHuuZ37m5OdJ"
      }
    },
    {
      "cell_type": "code",
      "source": [
        "# Decision"
      ],
      "metadata": {
        "id": "wrmDt7jnyiCW"
      },
      "execution_count": null,
      "outputs": []
    },
    {
      "cell_type": "code",
      "source": [
        "if test_statistic < -critical_value:\n",
        "    decision = \"Reject the null hypothesis\"\n",
        "else:\n",
        "    decision = \"Fail to reject the null hypothesis\""
      ],
      "metadata": {
        "id": "esbRmcdty1xi"
      },
      "execution_count": 10,
      "outputs": []
    },
    {
      "cell_type": "code",
      "source": [
        "# Output results"
      ],
      "metadata": {
        "id": "iJ5cWkAqy8QA"
      },
      "execution_count": null,
      "outputs": []
    },
    {
      "cell_type": "code",
      "source": [
        "print(f\"Test Statistic: {test_statistic}\")\n",
        "print(f\"Critical Value: {-critical_value}\")\n",
        "print(f\"Decision: {decision}\")"
      ],
      "metadata": {
        "colab": {
          "base_uri": "https://localhost:8080/"
        },
        "id": "mmttWKIwzAHh",
        "outputId": "04d3ed1b-cd8c-4fc9-ff1e-ee8f05c1afcf"
      },
      "execution_count": 11,
      "outputs": [
        {
          "output_type": "stream",
          "name": "stdout",
          "text": [
            "Test Statistic: -38.0\n",
            "Critical Value: -1.6448536269514722\n",
            "Decision: Reject the null hypothesis\n"
          ]
        }
      ]
    },
    {
      "cell_type": "markdown",
      "source": [
        " **Conclusion**"
      ],
      "metadata": {
        "id": "UMtoD2FTzpS2"
      }
    },
    {
      "cell_type": "markdown",
      "source": [
        " Conclusion:\n",
        "Since the test statistic is significantly less than the critical value, there is strong evidence to support the restaurant owners' claim that the weekly operating costs are higher than the model suggests."
      ],
      "metadata": {
        "id": "Tj6OzCoa5ZuA"
      }
    },
    {
      "cell_type": "markdown",
      "source": [
        "The test statistic calculation shows strong evidence against the null hypothesis.\n",
        "The critical value confirms this rejection at the 5% significance level.\n",
        "The final conclusion supports the restaurant owners' claim that the weekly operating costs have increased compared to the model's predictions.\n",
        "\n",
        "\n",
        "\n",
        "\n",
        "\n",
        "\n"
      ],
      "metadata": {
        "id": "fOCHjsaEzLtW"
      }
    }
  ]
}