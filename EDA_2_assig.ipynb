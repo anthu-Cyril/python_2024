{
  "nbformat": 4,
  "nbformat_minor": 0,
  "metadata": {
    "colab": {
      "provenance": []
    },
    "kernelspec": {
      "name": "python3",
      "display_name": "Python 3"
    },
    "language_info": {
      "name": "python"
    }
  },
  "cells": [
    {
      "cell_type": "code",
      "source": [
        "# DATA PREPROCESSING AND FEATURE ENGINEERING IN MACHINE LEARNING"
      ],
      "metadata": {
        "id": "53QUkTUoBg1H"
      },
      "execution_count": 1,
      "outputs": []
    },
    {
      "cell_type": "code",
      "execution_count": 6,
      "metadata": {
        "id": "baQQhUf2A3ri"
      },
      "outputs": [],
      "source": [
        "import pandas as pd\n",
        "import numpy as np\n",
        "import matplotlib.pyplot as plt\n",
        "import seaborn as sns\n"
      ]
    },
    {
      "cell_type": "code",
      "source": [
        "file_path = '/content/adult_with_headers.csv'\n",
        "df = pd.read_csv(file_path)"
      ],
      "metadata": {
        "id": "6JRUfhOTCwiG"
      },
      "execution_count": 7,
      "outputs": []
    },
    {
      "cell_type": "code",
      "source": [
        "# Task 1: Data Exploration and Preprocessing"
      ],
      "metadata": {
        "id": "aZObthXeDG4L"
      },
      "execution_count": null,
      "outputs": []
    },
    {
      "cell_type": "code",
      "source": [
        "print(\"Summary Statistics:\")\n",
        "print(df.describe())"
      ],
      "metadata": {
        "colab": {
          "base_uri": "https://localhost:8080/"
        },
        "id": "HuNuT2QLC1N_",
        "outputId": "74c4ffbb-1b13-4b18-8e61-54b9bd699b24"
      },
      "execution_count": 8,
      "outputs": [
        {
          "output_type": "stream",
          "name": "stdout",
          "text": [
            "Summary Statistics:\n",
            "                age        fnlwgt  education_num  capital_gain  capital_loss  \\\n",
            "count  32561.000000  3.256100e+04   32561.000000  32561.000000  32561.000000   \n",
            "mean      38.581647  1.897784e+05      10.080679   1077.648844     87.303830   \n",
            "std       13.640433  1.055500e+05       2.572720   7385.292085    402.960219   \n",
            "min       17.000000  1.228500e+04       1.000000      0.000000      0.000000   \n",
            "25%       28.000000  1.178270e+05       9.000000      0.000000      0.000000   \n",
            "50%       37.000000  1.783560e+05      10.000000      0.000000      0.000000   \n",
            "75%       48.000000  2.370510e+05      12.000000      0.000000      0.000000   \n",
            "max       90.000000  1.484705e+06      16.000000  99999.000000   4356.000000   \n",
            "\n",
            "       hours_per_week  \n",
            "count    32561.000000  \n",
            "mean        40.437456  \n",
            "std         12.347429  \n",
            "min          1.000000  \n",
            "25%         40.000000  \n",
            "50%         40.000000  \n",
            "75%         45.000000  \n",
            "max         99.000000  \n"
          ]
        }
      ]
    },
    {
      "cell_type": "code",
      "source": [
        "print(\"\\nMissing Values:\")\n",
        "print(df.isnull().sum())"
      ],
      "metadata": {
        "colab": {
          "base_uri": "https://localhost:8080/"
        },
        "id": "Gc41XbmoC5cZ",
        "outputId": "78ec4b3a-190a-4f22-d7f2-4649ba12dee0"
      },
      "execution_count": 9,
      "outputs": [
        {
          "output_type": "stream",
          "name": "stdout",
          "text": [
            "\n",
            "Missing Values:\n",
            "age               0\n",
            "workclass         0\n",
            "fnlwgt            0\n",
            "education         0\n",
            "education_num     0\n",
            "marital_status    0\n",
            "occupation        0\n",
            "relationship      0\n",
            "race              0\n",
            "sex               0\n",
            "capital_gain      0\n",
            "capital_loss      0\n",
            "hours_per_week    0\n",
            "native_country    0\n",
            "income            0\n",
            "dtype: int64\n"
          ]
        }
      ]
    },
    {
      "cell_type": "code",
      "source": [
        "print(\"\\nData Types:\")\n",
        "print(df.dtypes)"
      ],
      "metadata": {
        "colab": {
          "base_uri": "https://localhost:8080/"
        },
        "id": "u2zNYOTZC9Zt",
        "outputId": "a659fe8b-7f0f-402b-c08f-335c52d7bb3b"
      },
      "execution_count": 10,
      "outputs": [
        {
          "output_type": "stream",
          "name": "stdout",
          "text": [
            "\n",
            "Data Types:\n",
            "age                int64\n",
            "workclass         object\n",
            "fnlwgt             int64\n",
            "education         object\n",
            "education_num      int64\n",
            "marital_status    object\n",
            "occupation        object\n",
            "relationship      object\n",
            "race              object\n",
            "sex               object\n",
            "capital_gain       int64\n",
            "capital_loss       int64\n",
            "hours_per_week     int64\n",
            "native_country    object\n",
            "income            object\n",
            "dtype: object\n"
          ]
        }
      ]
    },
    {
      "cell_type": "code",
      "source": [
        "#  Handle Missing Values:"
      ],
      "metadata": {
        "id": "qKFGwGSYDA-b"
      },
      "execution_count": null,
      "outputs": []
    },
    {
      "cell_type": "code",
      "source": [
        "# Handling missing values: Dropping rows with missing values\n",
        "# we can choose to impute based on the distribution of each column, here we will drop\n",
        "df_cleaned = df.dropna()"
      ],
      "metadata": {
        "id": "1yxcFx2TDPun"
      },
      "execution_count": 11,
      "outputs": []
    },
    {
      "cell_type": "code",
      "source": [
        "# Check for remaining missing values\n",
        "print(df_cleaned.isnull().sum())"
      ],
      "metadata": {
        "colab": {
          "base_uri": "https://localhost:8080/"
        },
        "id": "z3DTdEqxD8OX",
        "outputId": "a7aea161-d1bd-4bdf-acb0-8a4be100d85e"
      },
      "execution_count": 12,
      "outputs": [
        {
          "output_type": "stream",
          "name": "stdout",
          "text": [
            "age               0\n",
            "workclass         0\n",
            "fnlwgt            0\n",
            "education         0\n",
            "education_num     0\n",
            "marital_status    0\n",
            "occupation        0\n",
            "relationship      0\n",
            "race              0\n",
            "sex               0\n",
            "capital_gain      0\n",
            "capital_loss      0\n",
            "hours_per_week    0\n",
            "native_country    0\n",
            "income            0\n",
            "dtype: int64\n"
          ]
        }
      ]
    },
    {
      "cell_type": "code",
      "source": [
        "#  Scaling Techniques:"
      ],
      "metadata": {
        "id": "_lWRtyi7EBmK"
      },
      "execution_count": null,
      "outputs": []
    },
    {
      "cell_type": "code",
      "source": [
        "from sklearn.preprocessing import StandardScaler, MinMaxScaler"
      ],
      "metadata": {
        "id": "EftR0smTEEjU"
      },
      "execution_count": 13,
      "outputs": []
    },
    {
      "cell_type": "code",
      "source": [
        "# Separate numerical columns\n",
        "numerical_cols = df_cleaned.select_dtypes(include=['int64', 'float64']).columns"
      ],
      "metadata": {
        "id": "z0ZpGLBbEIH7"
      },
      "execution_count": 14,
      "outputs": []
    },
    {
      "cell_type": "code",
      "source": [
        "# Standard Scaling\n",
        "scaler_standard = StandardScaler()\n",
        "df_standard_scaled = df_cleaned.copy()\n",
        "df_standard_scaled[numerical_cols] = scaler_standard.fit_transform(df_cleaned[numerical_cols])"
      ],
      "metadata": {
        "id": "GiWP4DvNEMcc"
      },
      "execution_count": 15,
      "outputs": []
    },
    {
      "cell_type": "code",
      "source": [
        "# Min-Max Scaling\n",
        "scaler_min_max = MinMaxScaler()\n",
        "df_min_max_scaled = df_cleaned.copy()\n",
        "df_min_max_scaled[numerical_cols] = scaler_min_max.fit_transform(df_cleaned[numerical_cols])"
      ],
      "metadata": {
        "id": "W1Cp_fEdEPvC"
      },
      "execution_count": 16,
      "outputs": []
    },
    {
      "cell_type": "code",
      "source": [
        "# Displaying first few rows after scaling\n",
        "print(df_standard_scaled.head())\n",
        "print(df_min_max_scaled.head())"
      ],
      "metadata": {
        "colab": {
          "base_uri": "https://localhost:8080/"
        },
        "id": "ZriN2D9fEVHb",
        "outputId": "7ed80328-0c41-43f9-8aec-88508985168d"
      },
      "execution_count": 17,
      "outputs": [
        {
          "output_type": "stream",
          "name": "stdout",
          "text": [
            "        age          workclass    fnlwgt   education  education_num  \\\n",
            "0  0.030671          State-gov -1.063611   Bachelors       1.134739   \n",
            "1  0.837109   Self-emp-not-inc -1.008707   Bachelors       1.134739   \n",
            "2 -0.042642            Private  0.245079     HS-grad      -0.420060   \n",
            "3  1.057047            Private  0.425801        11th      -1.197459   \n",
            "4 -0.775768            Private  1.408176   Bachelors       1.134739   \n",
            "\n",
            "        marital_status          occupation    relationship    race      sex  \\\n",
            "0        Never-married        Adm-clerical   Not-in-family   White     Male   \n",
            "1   Married-civ-spouse     Exec-managerial         Husband   White     Male   \n",
            "2             Divorced   Handlers-cleaners   Not-in-family   White     Male   \n",
            "3   Married-civ-spouse   Handlers-cleaners         Husband   Black     Male   \n",
            "4   Married-civ-spouse      Prof-specialty            Wife   Black   Female   \n",
            "\n",
            "   capital_gain  capital_loss  hours_per_week  native_country  income  \n",
            "0      0.148453      -0.21666       -0.035429   United-States   <=50K  \n",
            "1     -0.145920      -0.21666       -2.222153   United-States   <=50K  \n",
            "2     -0.145920      -0.21666       -0.035429   United-States   <=50K  \n",
            "3     -0.145920      -0.21666       -0.035429   United-States   <=50K  \n",
            "4     -0.145920      -0.21666       -0.035429            Cuba   <=50K  \n",
            "        age          workclass    fnlwgt   education  education_num  \\\n",
            "0  0.301370          State-gov  0.044302   Bachelors       0.800000   \n",
            "1  0.452055   Self-emp-not-inc  0.048238   Bachelors       0.800000   \n",
            "2  0.287671            Private  0.138113     HS-grad       0.533333   \n",
            "3  0.493151            Private  0.151068        11th       0.400000   \n",
            "4  0.150685            Private  0.221488   Bachelors       0.800000   \n",
            "\n",
            "        marital_status          occupation    relationship    race      sex  \\\n",
            "0        Never-married        Adm-clerical   Not-in-family   White     Male   \n",
            "1   Married-civ-spouse     Exec-managerial         Husband   White     Male   \n",
            "2             Divorced   Handlers-cleaners   Not-in-family   White     Male   \n",
            "3   Married-civ-spouse   Handlers-cleaners         Husband   Black     Male   \n",
            "4   Married-civ-spouse      Prof-specialty            Wife   Black   Female   \n",
            "\n",
            "   capital_gain  capital_loss  hours_per_week  native_country  income  \n",
            "0       0.02174           0.0        0.397959   United-States   <=50K  \n",
            "1       0.00000           0.0        0.122449   United-States   <=50K  \n",
            "2       0.00000           0.0        0.397959   United-States   <=50K  \n",
            "3       0.00000           0.0        0.397959   United-States   <=50K  \n",
            "4       0.00000           0.0        0.397959            Cuba   <=50K  \n"
          ]
        }
      ]
    },
    {
      "cell_type": "markdown",
      "source": [
        "**Discussion:**\n",
        "\n",
        "1.Standard Scaling: Best for data where the features follow a normal distribution (Gaussian), as it centers the data around zero.\n",
        "\n",
        "2.Min-Max Scaling: Useful when features have a predefined range, such as image data or where distribution boundaries matter (e.g., 0 to 1).\n"
      ],
      "metadata": {
        "id": "XuCuSo4cEdTv"
      }
    },
    {
      "cell_type": "code",
      "source": [
        "# Task 2: Encoding Techniques"
      ],
      "metadata": {
        "id": "SuGxUkEyEZud"
      },
      "execution_count": null,
      "outputs": []
    },
    {
      "cell_type": "code",
      "source": [
        "# One-Hot Encoding & Label Encoding:\n"
      ],
      "metadata": {
        "id": "PgFr0sY4EyeS"
      },
      "execution_count": null,
      "outputs": []
    },
    {
      "cell_type": "code",
      "source": [
        "from sklearn.preprocessing import OneHotEncoder, LabelEncoder\n"
      ],
      "metadata": {
        "id": "CzAc-ljPEp9x"
      },
      "execution_count": 18,
      "outputs": []
    },
    {
      "cell_type": "code",
      "source": [
        "# Identify categorical columns\n",
        "categorical_cols = df_cleaned.select_dtypes(include=['object']).columns"
      ],
      "metadata": {
        "id": "ESlr8zadE3VR"
      },
      "execution_count": 19,
      "outputs": []
    },
    {
      "cell_type": "code",
      "source": [
        "# Apply One-Hot Encoding to categorical variables with less than 5 categories\n",
        "one_hot_cols = [col for col in categorical_cols if df_cleaned[col].nunique() < 5]\n",
        "df_one_hot_encoded = pd.get_dummies(df_cleaned, columns=one_hot_cols)\n"
      ],
      "metadata": {
        "id": "M7Znn-8SE6xI"
      },
      "execution_count": 20,
      "outputs": []
    },
    {
      "cell_type": "code",
      "source": [
        "# Apply Label Encoding to categorical variables with more than 5 categories\n",
        "label_cols = [col for col in categorical_cols if df_cleaned[col].nunique() >= 5]\n",
        "label_encoders = {}\n",
        "df_label_encoded = df_one_hot_encoded.copy()\n",
        "\n",
        "for col in label_cols:\n",
        "    label_encoders[col] = LabelEncoder()\n",
        "    df_label_encoded[col] = label_encoders[col].fit_transform(df_cleaned[col])\n"
      ],
      "metadata": {
        "id": "veDU-F0EE-g0"
      },
      "execution_count": 21,
      "outputs": []
    },
    {
      "cell_type": "code",
      "source": [
        "# Display encoded dataframe\n",
        "print(df_label_encoded.head())"
      ],
      "metadata": {
        "colab": {
          "base_uri": "https://localhost:8080/"
        },
        "id": "41bK0MKpFImi",
        "outputId": "dbb4b00f-8c63-4869-dc99-f4003b12c02c"
      },
      "execution_count": 22,
      "outputs": [
        {
          "output_type": "stream",
          "name": "stdout",
          "text": [
            "   age  workclass  fnlwgt  education  education_num  marital_status  \\\n",
            "0   39          7   77516          9             13               4   \n",
            "1   50          6   83311          9             13               2   \n",
            "2   38          4  215646         11              9               0   \n",
            "3   53          4  234721          1              7               2   \n",
            "4   28          4  338409          9             13               2   \n",
            "\n",
            "   occupation  relationship  race  capital_gain  capital_loss  hours_per_week  \\\n",
            "0           1             1     4          2174             0              40   \n",
            "1           4             0     4             0             0              13   \n",
            "2           6             1     4             0             0              40   \n",
            "3           6             0     2             0             0              40   \n",
            "4          10             5     2             0             0              40   \n",
            "\n",
            "   native_country  sex_ Female  sex_ Male  income_ <=50K  income_ >50K  \n",
            "0              39            0          1              1             0  \n",
            "1              39            0          1              1             0  \n",
            "2              39            0          1              1             0  \n",
            "3              39            0          1              1             0  \n",
            "4               5            1          0              1             0  \n"
          ]
        }
      ]
    },
    {
      "cell_type": "markdown",
      "source": [
        "Discussion:\n",
        "\n",
        "1.One-Hot Encoding Pros: Keeps the categorical feature information intact and is useful for non-ordinal categories.\n",
        "\n",
        "2.One-Hot Encoding Cons: Can increase dimensionality significantly when dealing with high cardinality.\n",
        "\n",
        "3.Label Encoding Pros: Efficient for ordinal categories or when there’s a natural ranking.\n",
        "\n",
        "4.Label Encoding Cons: Can introduce spurious relationships when categories are non-ordinal.\n"
      ],
      "metadata": {
        "id": "VX_aDzmDFP_6"
      }
    },
    {
      "cell_type": "code",
      "source": [
        "# Task 3: Feature Engineering\n",
        " # Creating new features:"
      ],
      "metadata": {
        "id": "xQ0YwdreF5zR"
      },
      "execution_count": null,
      "outputs": []
    },
    {
      "cell_type": "code",
      "source": [
        "df_label_encoded['age_bins'] = pd.cut(df_cleaned['age'], bins=[0, 30, 60, 90], labels=['young', 'middle-aged', 'senior'])\n",
        "\n",
        "# Check for typos and correct the column name\n",
        "df_label_encoded['capital_gain_loss'] = df_cleaned['capital_gain'] - df_cleaned['capital_loss']"
      ],
      "metadata": {
        "id": "JlrFZL4YGc9V"
      },
      "execution_count": 23,
      "outputs": []
    },
    {
      "cell_type": "code",
      "source": [
        "# Display the newly engineered features\n",
        "print(df_label_encoded[['age_bins', 'capital_gain_loss']].head())"
      ],
      "metadata": {
        "colab": {
          "base_uri": "https://localhost:8080/"
        },
        "id": "uZ0r8Y1rGkMm",
        "outputId": "f0356e69-5132-4eae-9c24-31696f82470c"
      },
      "execution_count": 24,
      "outputs": [
        {
          "output_type": "stream",
          "name": "stdout",
          "text": [
            "      age_bins  capital_gain_loss\n",
            "0  middle-aged               2174\n",
            "1  middle-aged                  0\n",
            "2  middle-aged                  0\n",
            "3  middle-aged                  0\n",
            "4        young                  0\n"
          ]
        }
      ]
    },
    {
      "cell_type": "code",
      "source": [
        "#Applying transformation (e.g., log transformation):"
      ],
      "metadata": {
        "id": "en1_DJbeGoZD"
      },
      "execution_count": null,
      "outputs": []
    },
    {
      "cell_type": "code",
      "source": [
        "# Apply log transformation to the 'capital_gain' column\n",
        "df_label_encoded['log_capital_gain'] = np.log1p(df_cleaned['capital_gain'])\n"
      ],
      "metadata": {
        "id": "yzAClOfNH99L"
      },
      "execution_count": 25,
      "outputs": []
    },
    {
      "cell_type": "code",
      "source": [
        "# Display the result of the log transformation\n",
        "print(df_label_encoded[['capital_gain', 'log_capital_gain']].head())"
      ],
      "metadata": {
        "colab": {
          "base_uri": "https://localhost:8080/"
        },
        "id": "gGxC16HqJEsf",
        "outputId": "d4653632-0ab6-4c6a-dc73-155623b4d933"
      },
      "execution_count": 26,
      "outputs": [
        {
          "output_type": "stream",
          "name": "stdout",
          "text": [
            "   capital_gain  log_capital_gain\n",
            "0          2174          7.684784\n",
            "1             0          0.000000\n",
            "2             0          0.000000\n",
            "3             0          0.000000\n",
            "4             0          0.000000\n"
          ]
        }
      ]
    },
    {
      "cell_type": "markdown",
      "source": [
        "# Justification:\n",
        " Log transformation helps to normalize right-skewed features, which stabilizes variance and reduces the impact of outliers."
      ],
      "metadata": {
        "id": "9EfgdeSWJf07"
      }
    },
    {
      "cell_type": "code",
      "source": [
        "# Task 4: Feature Selection"
      ],
      "metadata": {
        "id": "QEqLTW_6Jo-O"
      },
      "execution_count": null,
      "outputs": []
    },
    {
      "cell_type": "code",
      "source": [
        "from sklearn.ensemble import IsolationForest\n"
      ],
      "metadata": {
        "id": "Ki_GT5NFJtLg"
      },
      "execution_count": 27,
      "outputs": []
    },
    {
      "cell_type": "code",
      "source": [
        "# Using Isolation Forest for outlier detection:"
      ],
      "metadata": {
        "id": "CDph-N8dKAac"
      },
      "execution_count": null,
      "outputs": []
    },
    {
      "cell_type": "code",
      "source": [
        "# Apply Isolation Forest to detect outliers\n",
        "iso_forest = IsolationForest(contamination=0.05)  # Adjust contamination as necessary\n",
        "outliers = iso_forest.fit_predict(df_label_encoded.select_dtypes(include=['float64', 'int64']))\n"
      ],
      "metadata": {
        "id": "36wmT-MuJwpY"
      },
      "execution_count": 28,
      "outputs": []
    },
    {
      "cell_type": "code",
      "source": [
        "# Filter out outliers\n",
        "df_no_outliers = df_label_encoded[outliers != -1]"
      ],
      "metadata": {
        "id": "B2jy8LRPJ4FY"
      },
      "execution_count": 29,
      "outputs": []
    },
    {
      "cell_type": "code",
      "source": [
        "# Display result\n",
        "print(f\"Outliers removed: {len(df_label_encoded) - len(df_no_outliers)}\")\n",
        "print(df_no_outliers.head())"
      ],
      "metadata": {
        "colab": {
          "base_uri": "https://localhost:8080/"
        },
        "id": "apZqlRCDJ5md",
        "outputId": "9d669754-2682-4bdf-b657-790751043251"
      },
      "execution_count": 30,
      "outputs": [
        {
          "output_type": "stream",
          "name": "stdout",
          "text": [
            "Outliers removed: 1628\n",
            "   age  workclass  fnlwgt  education  education_num  marital_status  \\\n",
            "0   39          7   77516          9             13               4   \n",
            "1   50          6   83311          9             13               2   \n",
            "2   38          4  215646         11              9               0   \n",
            "3   53          4  234721          1              7               2   \n",
            "4   28          4  338409          9             13               2   \n",
            "\n",
            "   occupation  relationship  race  capital_gain  capital_loss  hours_per_week  \\\n",
            "0           1             1     4          2174             0              40   \n",
            "1           4             0     4             0             0              13   \n",
            "2           6             1     4             0             0              40   \n",
            "3           6             0     2             0             0              40   \n",
            "4          10             5     2             0             0              40   \n",
            "\n",
            "   native_country  sex_ Female  sex_ Male  income_ <=50K  income_ >50K  \\\n",
            "0              39            0          1              1             0   \n",
            "1              39            0          1              1             0   \n",
            "2              39            0          1              1             0   \n",
            "3              39            0          1              1             0   \n",
            "4               5            1          0              1             0   \n",
            "\n",
            "      age_bins  capital_gain_loss  log_capital_gain  \n",
            "0  middle-aged               2174          7.684784  \n",
            "1  middle-aged                  0          0.000000  \n",
            "2  middle-aged                  0          0.000000  \n",
            "3  middle-aged                  0          0.000000  \n",
            "4        young                  0          0.000000  \n"
          ]
        }
      ]
    },
    {
      "cell_type": "markdown",
      "source": [
        "**Discussion:**\n",
        "\n",
        "Outliers can distort model learning by creating noise that can skew parameter estimations, particularly for algorithms sensitive to distance or variance (e.g., linear models, SVMs)."
      ],
      "metadata": {
        "id": "f-O7zoCDKGmU"
      }
    },
    {
      "cell_type": "code",
      "source": [
        "# Applying Predictive Power Score (PPS):"
      ],
      "metadata": {
        "id": "LIWqXtgYKPla"
      },
      "execution_count": null,
      "outputs": []
    },
    {
      "cell_type": "code",
      "source": [
        "import ppscore as pps"
      ],
      "metadata": {
        "id": "uLkhHgdEQx_f"
      },
      "execution_count": 2,
      "outputs": []
    },
    {
      "cell_type": "code",
      "source": [
        "# Calculate the PPS matrix\n",
        "pps_matrix = pps.matrix(df_no_outliers)\n"
      ],
      "metadata": {
        "id": "JRFxfyaJRu2q"
      },
      "execution_count": 32,
      "outputs": []
    },
    {
      "cell_type": "code",
      "source": [
        "# Display PPS matrix\n",
        "print(pps_matrix[['x', 'y', 'ppscore']].sort_values(by='ppscore', ascending=False).head()) # Changed 'pps' to 'ppscore'"
      ],
      "metadata": {
        "colab": {
          "base_uri": "https://localhost:8080/"
        },
        "id": "YKxcJNYUR-dQ",
        "outputId": "df82b66b-3008-418f-aa6d-ac5b2325ad56"
      },
      "execution_count": 34,
      "outputs": [
        {
          "output_type": "stream",
          "name": "stdout",
          "text": [
            "                x              y  ppscore\n",
            "0             age            age      1.0\n",
            "42         fnlwgt         fnlwgt      1.0\n",
            "64      education  education_num      1.0\n",
            "83  education_num      education      1.0\n",
            "84  education_num  education_num      1.0\n"
          ]
        }
      ]
    },
    {
      "cell_type": "code",
      "source": [
        "# Correlation Matrix for comparison\n",
        "corr_matrix = df_no_outliers.corr()\n",
        "print(\"\\nCorrelation Matrix:\")\n",
        "print(corr_matrix)"
      ],
      "metadata": {
        "colab": {
          "base_uri": "https://localhost:8080/"
        },
        "id": "E13_h2xUSBz1",
        "outputId": "f6be9bc7-a598-43e7-f45a-42124d84c6db"
      },
      "execution_count": 35,
      "outputs": [
        {
          "output_type": "stream",
          "name": "stdout",
          "text": [
            "\n",
            "Correlation Matrix:\n",
            "                        age  workclass    fnlwgt  education  education_num  \\\n",
            "age                1.000000   0.022234 -0.079447  -0.000959       0.037441   \n",
            "workclass          0.022234   1.000000 -0.015588   0.014918       0.037665   \n",
            "fnlwgt            -0.079447  -0.015588  1.000000  -0.029791      -0.047529   \n",
            "education         -0.000959   0.014918 -0.029791   1.000000       0.347304   \n",
            "education_num      0.037441   0.037665 -0.047529   0.347304       1.000000   \n",
            "marital_status    -0.298138  -0.057110  0.030886  -0.032019      -0.054944   \n",
            "occupation        -0.010420   0.237303  0.000392  -0.027133       0.101933   \n",
            "relationship      -0.276943  -0.090680  0.009681  -0.007257      -0.090892   \n",
            "race               0.037814   0.045574 -0.026982   0.004023       0.029194   \n",
            "capital_gain       0.064762   0.018673 -0.023541   0.023313       0.094676   \n",
            "capital_loss       0.032532   0.015306 -0.011656   0.021292       0.077664   \n",
            "hours_per_week     0.092138   0.126678 -0.024086   0.051360       0.137837   \n",
            "native_country     0.013551  -0.007464 -0.058180   0.058560       0.061108   \n",
            "sex_ Female       -0.097455  -0.089402 -0.026570   0.034289      -0.001193   \n",
            "sex_ Male          0.097455   0.089402  0.026570  -0.034289       0.001193   \n",
            "income_ <=50K     -0.227075  -0.040636  0.013324  -0.071199      -0.311236   \n",
            "income_ >50K       0.227075   0.040636 -0.013324   0.071199       0.311236   \n",
            "capital_gain_loss  0.055093   0.014537 -0.020065   0.017653       0.073694   \n",
            "log_capital_gain   0.060875   0.021915 -0.022701   0.024845       0.071321   \n",
            "\n",
            "                   marital_status  occupation  relationship      race  \\\n",
            "age                     -0.298138   -0.010420     -0.276943  0.037814   \n",
            "workclass               -0.057110    0.237303     -0.090680  0.045574   \n",
            "fnlwgt                   0.030886    0.000392      0.009681 -0.026982   \n",
            "education               -0.032019   -0.027133     -0.007257  0.004023   \n",
            "education_num           -0.054944    0.101933     -0.090892  0.029194   \n",
            "marital_status           1.000000   -0.002370      0.192462 -0.068064   \n",
            "occupation              -0.002370    1.000000     -0.075152  0.009961   \n",
            "relationship             0.192462   -0.075152      1.000000 -0.121819   \n",
            "race                    -0.068064    0.009961     -0.121819  1.000000   \n",
            "capital_gain            -0.056492    0.012660     -0.111787  0.060032   \n",
            "capital_loss            -0.040022    0.024054     -0.075005  0.047149   \n",
            "hours_per_week          -0.186301    0.066828     -0.250830  0.044778   \n",
            "native_country          -0.030841   -0.009635     -0.004838  0.121192   \n",
            "sex_ Female              0.125245   -0.076228      0.576391 -0.091600   \n",
            "sex_ Male               -0.125245    0.076228     -0.576391  0.091600   \n",
            "income_ <=50K            0.196366   -0.071079      0.261982 -0.083175   \n",
            "income_ >50K            -0.196366    0.071079     -0.261982  0.083175   \n",
            "capital_gain_loss       -0.045409    0.006745     -0.090809  0.047204   \n",
            "log_capital_gain        -0.055241    0.011156     -0.101498  0.061196   \n",
            "\n",
            "                   capital_gain  capital_loss  hours_per_week  native_country  \\\n",
            "age                    0.064762      0.032532        0.092138        0.013551   \n",
            "workclass              0.018673      0.015306        0.126678       -0.007464   \n",
            "fnlwgt                -0.023541     -0.011656       -0.024086       -0.058180   \n",
            "education              0.023313      0.021292        0.051360        0.058560   \n",
            "education_num          0.094676      0.077664        0.137837        0.061108   \n",
            "marital_status        -0.056492     -0.040022       -0.186301       -0.030841   \n",
            "occupation             0.012660      0.024054        0.066828       -0.009635   \n",
            "relationship          -0.111787     -0.075005       -0.250830       -0.004838   \n",
            "race                   0.060032      0.047149        0.044778        0.121192   \n",
            "capital_gain           1.000000     -0.039101        0.064191        0.045417   \n",
            "capital_loss          -0.039101      1.000000        0.054288        0.038361   \n",
            "hours_per_week         0.064191      0.054288        1.000000        0.000077   \n",
            "native_country         0.045417      0.038361        0.000077        1.000000   \n",
            "sex_ Female           -0.081111     -0.053739       -0.224481        0.010493   \n",
            "sex_ Male              0.081111      0.053739        0.224481       -0.010493   \n",
            "income_ <=50K         -0.241455     -0.149669       -0.217082       -0.030166   \n",
            "income_ >50K           0.241455      0.149669        0.217082        0.030166   \n",
            "capital_gain_loss      0.973834     -0.265163        0.049594        0.035101   \n",
            "log_capital_gain       0.878068     -0.046348        0.055186        0.046351   \n",
            "\n",
            "                   sex_ Female  sex_ Male  income_ <=50K  income_ >50K  \\\n",
            "age                  -0.097455   0.097455      -0.227075      0.227075   \n",
            "workclass            -0.089402   0.089402      -0.040636      0.040636   \n",
            "fnlwgt               -0.026570   0.026570       0.013324     -0.013324   \n",
            "education             0.034289  -0.034289      -0.071199      0.071199   \n",
            "education_num        -0.001193   0.001193      -0.311236      0.311236   \n",
            "marital_status        0.125245  -0.125245       0.196366     -0.196366   \n",
            "occupation           -0.076228   0.076228      -0.071079      0.071079   \n",
            "relationship          0.576391  -0.576391       0.261982     -0.261982   \n",
            "race                 -0.091600   0.091600      -0.083175      0.083175   \n",
            "capital_gain         -0.081111   0.081111      -0.241455      0.241455   \n",
            "capital_loss         -0.053739   0.053739      -0.149669      0.149669   \n",
            "hours_per_week       -0.224481   0.224481      -0.217082      0.217082   \n",
            "native_country        0.010493  -0.010493      -0.030166      0.030166   \n",
            "sex_ Female           1.000000  -1.000000       0.218509     -0.218509   \n",
            "sex_ Male            -1.000000   1.000000      -0.218509      0.218509   \n",
            "income_ <=50K         0.218509  -0.218509       1.000000     -1.000000   \n",
            "income_ >50K         -0.218509   0.218509      -1.000000      1.000000   \n",
            "capital_gain_loss    -0.066046   0.066046      -0.198950      0.198950   \n",
            "log_capital_gain     -0.075623   0.075623      -0.185961      0.185961   \n",
            "\n",
            "                   capital_gain_loss  log_capital_gain  \n",
            "age                         0.055093          0.060875  \n",
            "workclass                   0.014537          0.021915  \n",
            "fnlwgt                     -0.020065         -0.022701  \n",
            "education                   0.017653          0.024845  \n",
            "education_num               0.073694          0.071321  \n",
            "marital_status             -0.045409         -0.055241  \n",
            "occupation                  0.006745          0.011156  \n",
            "relationship               -0.090809         -0.101498  \n",
            "race                        0.047204          0.061196  \n",
            "capital_gain                0.973834          0.878068  \n",
            "capital_loss               -0.265163         -0.046348  \n",
            "hours_per_week              0.049594          0.055186  \n",
            "native_country              0.035101          0.046351  \n",
            "sex_ Female                -0.066046         -0.075623  \n",
            "sex_ Male                   0.066046          0.075623  \n",
            "income_ <=50K              -0.198950         -0.185961  \n",
            "income_ >50K                0.198950          0.185961  \n",
            "capital_gain_loss           1.000000          0.857825  \n",
            "log_capital_gain            0.857825          1.000000  \n"
          ]
        },
        {
          "output_type": "stream",
          "name": "stderr",
          "text": [
            "<ipython-input-35-324a8943b87c>:2: FutureWarning: The default value of numeric_only in DataFrame.corr is deprecated. In a future version, it will default to False. Select only valid columns or specify the value of numeric_only to silence this warning.\n",
            "  corr_matrix = df_no_outliers.corr()\n"
          ]
        }
      ]
    },
    {
      "cell_type": "markdown",
      "source": [
        "**Discussion:**\n",
        "\n",
        "1.PPS: Measures the strength of a predictive relationship between two features, and is better suited for capturing non-linear relationships compared to correlation.\n",
        "\n",
        "2.Correlation: Captures only linear relationships, making it less informative in many cases.\n"
      ],
      "metadata": {
        "id": "N1gUUA5gSKGX"
      }
    }
  ]
}